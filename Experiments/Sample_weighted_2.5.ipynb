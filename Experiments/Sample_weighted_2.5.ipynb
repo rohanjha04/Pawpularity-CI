{
 "cells": [
  {
   "cell_type": "code",
   "execution_count": 1,
   "id": "21f65c7d",
   "metadata": {
    "_cell_guid": "b1076dfc-b9ad-4769-8c92-a6c4dae69d19",
    "_uuid": "8f2839f25d086af736a60e9eeb907d3b93b6e0e5",
    "execution": {
     "iopub.execute_input": "2024-04-08T13:07:07.063039Z",
     "iopub.status.busy": "2024-04-08T13:07:07.062643Z",
     "iopub.status.idle": "2024-04-08T13:07:20.021927Z",
     "shell.execute_reply": "2024-04-08T13:07:20.020826Z"
    },
    "papermill": {
     "duration": 12.968744,
     "end_time": "2024-04-08T13:07:20.024805",
     "exception": false,
     "start_time": "2024-04-08T13:07:07.056061",
     "status": "completed"
    },
    "tags": []
   },
   "outputs": [
    {
     "name": "stderr",
     "output_type": "stream",
     "text": [
      "2024-04-08 13:07:08.843144: E external/local_xla/xla/stream_executor/cuda/cuda_dnn.cc:9261] Unable to register cuDNN factory: Attempting to register factory for plugin cuDNN when one has already been registered\n",
      "2024-04-08 13:07:08.843300: E external/local_xla/xla/stream_executor/cuda/cuda_fft.cc:607] Unable to register cuFFT factory: Attempting to register factory for plugin cuFFT when one has already been registered\n",
      "2024-04-08 13:07:08.980540: E external/local_xla/xla/stream_executor/cuda/cuda_blas.cc:1515] Unable to register cuBLAS factory: Attempting to register factory for plugin cuBLAS when one has already been registered\n"
     ]
    }
   ],
   "source": [
    "#import neccessary libraries\n",
    "import tensorflow as tf\n",
    "import numpy as np\n",
    "import pandas as pd\n",
    "import matplotlib.pyplot as plt\n",
    "import os\n",
    "import re"
   ]
  },
  {
   "cell_type": "code",
   "execution_count": 2,
   "id": "4c5c40c6",
   "metadata": {
    "execution": {
     "iopub.execute_input": "2024-04-08T13:07:20.037023Z",
     "iopub.status.busy": "2024-04-08T13:07:20.036444Z",
     "iopub.status.idle": "2024-04-08T13:07:20.083346Z",
     "shell.execute_reply": "2024-04-08T13:07:20.082287Z"
    },
    "papermill": {
     "duration": 0.055634,
     "end_time": "2024-04-08T13:07:20.086057",
     "exception": false,
     "start_time": "2024-04-08T13:07:20.030423",
     "status": "completed"
    },
    "tags": []
   },
   "outputs": [],
   "source": [
    "train_df= pd.read_csv('/kaggle/input/petfinder-pawpularity-score/train.csv')\n",
    "metadata_columns= ['Subject Focus', 'Eyes', 'Face', 'Near', 'Action', 'Accessory', 'Group', 'Collage', 'Human', 'Occlusion', 'Info', 'Blur']\n",
    "target_column= 'Pawpularity'\n",
    "#Move last 500 images to test set\n",
    "test_df= train_df.iloc[-500:]\n",
    "#Delete last 500 images from train set\n",
    "train_df= train_df.iloc[:-500]\n",
    "\n",
    "#Now use last 500 images for validation\n",
    "validation_df= train_df.iloc[-500:]\n",
    "#Delete last 500 images from train set\n",
    "train_df= train_df.iloc[:-500]"
   ]
  },
  {
   "cell_type": "code",
   "execution_count": 3,
   "id": "1fd2fe59",
   "metadata": {
    "execution": {
     "iopub.execute_input": "2024-04-08T13:07:20.098783Z",
     "iopub.status.busy": "2024-04-08T13:07:20.098023Z",
     "iopub.status.idle": "2024-04-08T13:07:20.105591Z",
     "shell.execute_reply": "2024-04-08T13:07:20.104623Z"
    },
    "papermill": {
     "duration": 0.016536,
     "end_time": "2024-04-08T13:07:20.108144",
     "exception": false,
     "start_time": "2024-04-08T13:07:20.091608",
     "status": "completed"
    },
    "tags": []
   },
   "outputs": [
    {
     "data": {
      "text/plain": [
       "(8912, 500, 500)"
      ]
     },
     "execution_count": 3,
     "metadata": {},
     "output_type": "execute_result"
    }
   ],
   "source": [
    "len(train_df), len(validation_df), len(test_df)"
   ]
  },
  {
   "cell_type": "code",
   "execution_count": 4,
   "id": "89a945f0",
   "metadata": {
    "execution": {
     "iopub.execute_input": "2024-04-08T13:07:20.121006Z",
     "iopub.status.busy": "2024-04-08T13:07:20.120371Z",
     "iopub.status.idle": "2024-04-08T13:07:20.135290Z",
     "shell.execute_reply": "2024-04-08T13:07:20.134502Z"
    },
    "papermill": {
     "duration": 0.023522,
     "end_time": "2024-04-08T13:07:20.137426",
     "exception": false,
     "start_time": "2024-04-08T13:07:20.113904",
     "status": "completed"
    },
    "tags": []
   },
   "outputs": [],
   "source": [
    "#Write custom dataloader in python to load and shuffle the images and meta data\n",
    "class CustomDataLoader(tf.keras.utils.Sequence):\n",
    "    def __init__(self, root_dir, df, metadata_columns, target_column, batch_size, image_size, shuffle=True):\n",
    "        self.root_dir = root_dir\n",
    "        self.df = df\n",
    "        self.metadata_columns = metadata_columns\n",
    "        self.target_column = target_column\n",
    "        self.batch_size = batch_size\n",
    "        self.image_size = image_size\n",
    "        self.shuffle = shuffle\n",
    "        self.indexes = np.arange(len(self.df))\n",
    "        if self.shuffle:\n",
    "            np.random.shuffle(self.indexes)\n",
    "    \n",
    "    def __len__(self):\n",
    "        return len(self.df) // self.batch_size #return the number of batches\n",
    "    \n",
    "    def on_epoch_end(self):\n",
    "        if self.shuffle:\n",
    "            np.random.shuffle(self.indexes) #shuffle the indexes after each epoch\n",
    "    \n",
    "    def __data_generation(self, indexes):\n",
    "        X= np.empty((self.batch_size, self.image_size[0], self.image_size[1], 3))\n",
    "        X_meta= np.empty((self.batch_size, len(self.metadata_columns)))\n",
    "        # X_combined= []\n",
    "        y= np.empty((self.batch_size, 1))\n",
    "        for i, index in enumerate(indexes):\n",
    "            image_path = self.root_dir + self.df.iloc[index]['Id'] + '.jpg'\n",
    "            image = tf.io.read_file(image_path)\n",
    "            image = tf.image.decode_jpeg(image, channels=3)\n",
    "            image = tf.image.resize(image, self.image_size)\n",
    "            image = image / 255.0 #normalize the image\n",
    "            image = tf.cast(image, tf.float16)\n",
    "            image = tf.image.random_flip_left_right(image) #random flip left right\n",
    "            X[i]= image.numpy() #convert tensor to numpy array\n",
    "            X_meta[i]= self.df.iloc[index][self.metadata_columns].values\n",
    "            y[i]= self.df.iloc[index][self.target_column]/100\n",
    "            #Apply log transformation to address skewness\n",
    "#             y[i]= np.log1p(y[i])\n",
    "        return X, X_meta, y\n",
    "    \n",
    "    def __getitem__(self, index):\n",
    "        indexes = self.indexes[index * self.batch_size : (index + 1) * self.batch_size]\n",
    "        X, X_meta, y = self.__data_generation(indexes)\n",
    "        y= tf.convert_to_tensor(y, dtype=tf.float32)\n",
    "        return [X,X_meta], y"
   ]
  },
  {
   "cell_type": "code",
   "execution_count": 5,
   "id": "9a8a1056",
   "metadata": {
    "execution": {
     "iopub.execute_input": "2024-04-08T13:07:20.148871Z",
     "iopub.status.busy": "2024-04-08T13:07:20.148551Z",
     "iopub.status.idle": "2024-04-08T13:07:23.702532Z",
     "shell.execute_reply": "2024-04-08T13:07:23.701706Z"
    },
    "papermill": {
     "duration": 3.562451,
     "end_time": "2024-04-08T13:07:23.704986",
     "exception": false,
     "start_time": "2024-04-08T13:07:20.142535",
     "status": "completed"
    },
    "tags": []
   },
   "outputs": [
    {
     "name": "stdout",
     "output_type": "stream",
     "text": [
      "Downloading data from https://storage.googleapis.com/tensorflow/keras-applications/resnet/resnet50_weights_tf_dim_ordering_tf_kernels_notop.h5\n",
      "\u001b[1m94765736/94765736\u001b[0m \u001b[32m━━━━━━━━━━━━━━━━━━━━\u001b[0m\u001b[37m\u001b[0m \u001b[1m1s\u001b[0m 0us/step\n"
     ]
    }
   ],
   "source": [
    "#Define the model with resnet50 to extract features from images\n",
    "input_image = tf.keras.layers.Input(shape=(256, 256, 3))\n",
    "#convert image to greyscale\n",
    "# input_image = tf.keras.layers.Lambda(lambda x: tf.image.rgb_to_grayscale(x))(input_image)\n",
    "input_metadata = tf.keras.layers.Input(shape=(12,))\n",
    "# input_image = tf.keras.layers.RandomRotation(0.15)(input_image)\n",
    "base_model = tf.keras.applications.ResNet50(include_top=False, input_tensor=input_image,\n",
    "                                            weights='imagenet')\n",
    "# base_model= tf.keras.applications.SwinTransformer(include_top=False, input_tensor=input_image,\n",
    "#                                             weights='imagenet')\n",
    "for layer in base_model.layers:\n",
    "    layer.trainable= False\n",
    "x = base_model.output\n",
    "x2= tf.keras.layers.Flatten()(x)\n",
    "concat_layers = tf.keras.layers.Concatenate()([x2, input_metadata])\n",
    "l2= tf.keras.layers.Dense(512, activation='relu')(concat_layers)\n",
    "b1= tf.keras.layers.BatchNormalization()(l2)\n",
    "l3= tf.keras.layers.Dense(256, activation='relu')(b1)\n",
    "b2= tf.keras.layers.BatchNormalization()(l3)\n",
    "# l4= tf.keras.layers.Dense(128, activation='relu')(b2)\n",
    "# b3= tf.keras.layers.BatchNormalization()(l4)\n",
    "l5= tf.keras.layers.Dense(64, activation='relu')(b2)\n",
    "b4= tf.keras.layers.BatchNormalization()(l5)\n",
    "l6= tf.keras.layers.Dense(32, activation='relu')(b4)\n",
    "b5= tf.keras.layers.BatchNormalization()(l6)\n",
    "l7= tf.keras.layers.Dense(16, activation='relu')(b5)\n",
    "b6= tf.keras.layers.BatchNormalization()(l7)\n",
    "output_1 = tf.keras.layers.Dense(1, activation='sigmoid')(b6)\n",
    "#Output values between 0-100\n",
    "# output= output_1 * tf.constant([100.0], dtype=tf.float64)\n",
    "\n",
    "model = tf.keras.models.Model(inputs=[input_image,input_metadata], outputs=output_1)"
   ]
  },
  {
   "cell_type": "code",
   "execution_count": 6,
   "id": "33bb2c41",
   "metadata": {
    "execution": {
     "iopub.execute_input": "2024-04-08T13:07:23.719741Z",
     "iopub.status.busy": "2024-04-08T13:07:23.719436Z",
     "iopub.status.idle": "2024-04-08T13:07:23.723266Z",
     "shell.execute_reply": "2024-04-08T13:07:23.722497Z"
    },
    "papermill": {
     "duration": 0.013187,
     "end_time": "2024-04-08T13:07:23.725177",
     "exception": false,
     "start_time": "2024-04-08T13:07:23.711990",
     "status": "completed"
    },
    "tags": []
   },
   "outputs": [],
   "source": [
    "# model.summary()"
   ]
  },
  {
   "cell_type": "code",
   "execution_count": 7,
   "id": "b5b45ee7",
   "metadata": {
    "execution": {
     "iopub.execute_input": "2024-04-08T13:07:23.739154Z",
     "iopub.status.busy": "2024-04-08T13:07:23.738887Z",
     "iopub.status.idle": "2024-04-08T13:07:23.743408Z",
     "shell.execute_reply": "2024-04-08T13:07:23.742487Z"
    },
    "papermill": {
     "duration": 0.013928,
     "end_time": "2024-04-08T13:07:23.745368",
     "exception": false,
     "start_time": "2024-04-08T13:07:23.731440",
     "status": "completed"
    },
    "tags": []
   },
   "outputs": [],
   "source": [
    "#Set dynamic learning rate to prevent overfitting\n",
    "initial_learning_rate = 0.01\n",
    "lr_schedule = tf.keras.optimizers.schedules.ExponentialDecay(\n",
    "    initial_learning_rate, decay_steps=10000, decay_rate=0.97, staircase=True\n",
    ")"
   ]
  },
  {
   "cell_type": "code",
   "execution_count": 8,
   "id": "6baf50bd",
   "metadata": {
    "execution": {
     "iopub.execute_input": "2024-04-08T13:07:23.759631Z",
     "iopub.status.busy": "2024-04-08T13:07:23.759372Z",
     "iopub.status.idle": "2024-04-08T13:07:23.774789Z",
     "shell.execute_reply": "2024-04-08T13:07:23.774059Z"
    },
    "papermill": {
     "duration": 0.02491,
     "end_time": "2024-04-08T13:07:23.776778",
     "exception": false,
     "start_time": "2024-04-08T13:07:23.751868",
     "status": "completed"
    },
    "tags": []
   },
   "outputs": [],
   "source": [
    "model.compile(optimizer=tf.keras.optimizers.Adam(learning_rate=lr_schedule), \n",
    "              loss= tf.keras.losses.MeanSquaredError(), \n",
    "              metrics=[tf.keras.metrics.RootMeanSquaredError()])"
   ]
  },
  {
   "cell_type": "code",
   "execution_count": 9,
   "id": "13bf1a81",
   "metadata": {
    "execution": {
     "iopub.execute_input": "2024-04-08T13:07:23.790956Z",
     "iopub.status.busy": "2024-04-08T13:07:23.790690Z",
     "iopub.status.idle": "2024-04-08T13:07:23.795168Z",
     "shell.execute_reply": "2024-04-08T13:07:23.794309Z"
    },
    "papermill": {
     "duration": 0.014247,
     "end_time": "2024-04-08T13:07:23.797657",
     "exception": false,
     "start_time": "2024-04-08T13:07:23.783410",
     "status": "completed"
    },
    "tags": []
   },
   "outputs": [
    {
     "name": "stdout",
     "output_type": "stream",
     "text": [
      "[LogicalDevice(name='/device:GPU:0', device_type='GPU'), LogicalDevice(name='/device:GPU:1', device_type='GPU')]\n"
     ]
    }
   ],
   "source": [
    "print(tf.config.list_logical_devices('GPU'))"
   ]
  },
  {
   "cell_type": "code",
   "execution_count": 10,
   "id": "58f3dc2d",
   "metadata": {
    "execution": {
     "iopub.execute_input": "2024-04-08T13:07:23.812125Z",
     "iopub.status.busy": "2024-04-08T13:07:23.811822Z",
     "iopub.status.idle": "2024-04-08T14:34:38.356689Z",
     "shell.execute_reply": "2024-04-08T14:34:38.355607Z"
    },
    "papermill": {
     "duration": 5234.554657,
     "end_time": "2024-04-08T14:34:38.358893",
     "exception": false,
     "start_time": "2024-04-08T13:07:23.804236",
     "status": "completed"
    },
    "tags": []
   },
   "outputs": [
    {
     "name": "stdout",
     "output_type": "stream",
     "text": [
      "Start of epoch 0\n",
      "Training acc over epoch: 0.22745519876480103\n",
      "Validation acc: 0.41414767503738403\n",
      "Start of epoch 1\n",
      "Training acc over epoch: 0.22477921843528748\n",
      "Validation acc: 0.33284997940063477\n",
      "Start of epoch 2\n",
      "Training acc over epoch: 0.2234969586133957\n",
      "Validation acc: 0.3009067177772522\n",
      "Start of epoch 3\n",
      "Training acc over epoch: 0.22277191281318665\n",
      "Validation acc: 0.28224024176597595\n",
      "Start of epoch 4\n",
      "Training acc over epoch: 0.22203250229358673\n",
      "Validation acc: 0.2751946449279785\n",
      "Start of epoch 5\n",
      "Training acc over epoch: 0.2214297503232956\n",
      "Validation acc: 0.26868104934692383\n",
      "Start of epoch 6\n",
      "Training acc over epoch: 0.22086656093597412\n",
      "Validation acc: 0.26563626527786255\n",
      "Start of epoch 7\n",
      "Training acc over epoch: 0.22031380236148834\n",
      "Validation acc: 0.26007500290870667\n",
      "Start of epoch 8\n",
      "Training acc over epoch: 0.21979454159736633\n",
      "Validation acc: 0.27718085050582886\n",
      "Start of epoch 9\n",
      "Training acc over epoch: 0.2193230837583542\n",
      "Validation acc: 0.2724994719028473\n",
      "Start of epoch 10\n",
      "Training acc over epoch: 0.2187449187040329\n",
      "Validation acc: 0.26955315470695496\n",
      "Start of epoch 11\n",
      "Training acc over epoch: 0.21815980970859528\n",
      "Validation acc: 0.2666175067424774\n",
      "Start of epoch 12\n",
      "Training acc over epoch: 0.2176402509212494\n",
      "Validation acc: 0.26467785239219666\n",
      "Start of epoch 13\n",
      "Training acc over epoch: 0.21703656017780304\n",
      "Validation acc: 0.26149752736091614\n",
      "Start of epoch 14\n",
      "Training acc over epoch: 0.21641717851161957\n",
      "Validation acc: 0.2590169310569763\n",
      "Start of epoch 15\n",
      "Training acc over epoch: 0.2158532738685608\n",
      "Validation acc: 0.25975704193115234\n",
      "Start of epoch 16\n",
      "Training acc over epoch: 0.21522316336631775\n",
      "Validation acc: 0.2695455551147461\n",
      "Start of epoch 17\n",
      "Training acc over epoch: 0.21461156010627747\n",
      "Validation acc: 0.2695353627204895\n",
      "Start of epoch 18\n",
      "Training acc over epoch: 0.21385642886161804\n",
      "Validation acc: 0.26806461811065674\n",
      "Start of epoch 19\n",
      "Training acc over epoch: 0.21327470242977142\n",
      "Validation acc: 0.2679431438446045\n"
     ]
    }
   ],
   "source": [
    "#Train the model\n",
    "train_loader = CustomDataLoader('/kaggle/input/petfinder-pawpularity-score/train/', train_df, metadata_columns, target_column, 32, (256, 256))\n",
    "validation_loader = CustomDataLoader('/kaggle/input/petfinder-pawpularity-score/train/', test_df, metadata_columns, target_column, 32, (256, 256))\n",
    "\n",
    "#Custom training loop for the model\n",
    "epochs= 20\n",
    "train_acc_values= []\n",
    "val_acc_values= []\n",
    "file= open('training_log.txt', 'w')\n",
    "# Define the loss function, optimizer, and metrics\n",
    "loss_fn = tf.keras.losses.MeanSquaredError()\n",
    "optimizer=tf.keras.optimizers.Adam(learning_rate=lr_schedule)\n",
    "train_metric = tf.keras.metrics.RootMeanSquaredError()\n",
    "val_metric = tf.keras.metrics.RootMeanSquaredError()\n",
    "\n",
    "# Loop over the epochs\n",
    "for epoch in range(epochs):\n",
    "    print(f\"Start of epoch {epoch}\")\n",
    "    file.write(f\"Start of epoch {epoch}\\n\")\n",
    "    #Iterate over the batches of dataset\n",
    "    for i, X in enumerate(train_loader):\n",
    "        X_images= X[0][0]\n",
    "        X_meta= X[0][1]\n",
    "        y= X[1]\n",
    "        with tf.GradientTape() as tape:\n",
    "            # Forward pass\n",
    "            logits = model([X_images, X_meta], training=True)\n",
    "#             sample_weights= tf.exp(5*y)\n",
    "            #Sample weights\n",
    "            sample_weights= tf.where(y>0.5, 2.5, 1)\n",
    "            # Compute the loss value\n",
    "            loss_value = loss_fn(y, logits, sample_weight= sample_weights)\n",
    "        # Backward pass\n",
    "        grads = tape.gradient(loss_value, model.trainable_weights)\n",
    "        # Update the weights\n",
    "        optimizer.apply_gradients(zip(grads, model.trainable_weights))\n",
    "        # Update training metric\n",
    "        train_metric.update_state(y, logits)\n",
    "    # Display metrics at the end of each epoch.\n",
    "    train_acc = train_metric.result()\n",
    "    print(f\"Training acc over epoch: {train_acc}\")\n",
    "    file.write(f\"Training acc over epoch: {train_acc}\\n\")\n",
    "    # Reset training metrics at the end of each epoch\n",
    "#     train_metric.reset_states()\n",
    "    # Run a validation loop at the end of each epoch.\n",
    "    for i, X in enumerate(validation_loader):\n",
    "        X_images= X[0][0]\n",
    "        X_meta= X[0][1]\n",
    "        y= X[1]\n",
    "        val_logits = model([X_images, X_meta], training=False)\n",
    "        # Update val metrics\n",
    "        val_metric.update_state(y, val_logits)\n",
    "    val_acc = val_metric.result()\n",
    "#     val_metric.reset_states()\n",
    "    print(f\"Validation acc: {val_acc}\")\n",
    "    file.write(f\"Validation acc: {val_acc}\\n\")\n",
    "    \n",
    "    #Store values for plotting\n",
    "    train_acc_values.append(train_acc)\n",
    "    val_acc_values.append(val_acc)\n",
    "file.close()\n",
    "    "
   ]
  },
  {
   "cell_type": "code",
   "execution_count": 11,
   "id": "0b933192",
   "metadata": {
    "execution": {
     "iopub.execute_input": "2024-04-08T14:34:38.381139Z",
     "iopub.status.busy": "2024-04-08T14:34:38.380814Z",
     "iopub.status.idle": "2024-04-08T14:34:38.385454Z",
     "shell.execute_reply": "2024-04-08T14:34:38.384504Z"
    },
    "papermill": {
     "duration": 0.017902,
     "end_time": "2024-04-08T14:34:38.387471",
     "exception": false,
     "start_time": "2024-04-08T14:34:38.369569",
     "status": "completed"
    },
    "tags": []
   },
   "outputs": [],
   "source": [
    "# train_loader = CustomDataLoader('/kaggle/input/petfinder-pawpularity-score/train/', train_df, metadata_columns, target_column, 32, (100, 100))\n",
    "# validation_loader = CustomDataLoader('/kaggle/input/petfinder-pawpularity-score/train/', test_df, metadata_columns, target_column, 32, (100, 100))\n",
    "# history= model.fit(train_loader, validation_data= validation_loader, epochs= 2)"
   ]
  },
  {
   "cell_type": "code",
   "execution_count": 12,
   "id": "34bcf55b",
   "metadata": {
    "execution": {
     "iopub.execute_input": "2024-04-08T14:34:38.409908Z",
     "iopub.status.busy": "2024-04-08T14:34:38.408987Z",
     "iopub.status.idle": "2024-04-08T14:34:47.299896Z",
     "shell.execute_reply": "2024-04-08T14:34:47.298834Z"
    },
    "papermill": {
     "duration": 8.904316,
     "end_time": "2024-04-08T14:34:47.302140",
     "exception": false,
     "start_time": "2024-04-08T14:34:38.397824",
     "status": "completed"
    },
    "tags": []
   },
   "outputs": [
    {
     "name": "stdout",
     "output_type": "stream",
     "text": [
      "Test acc: 0.213438481092453\n"
     ]
    }
   ],
   "source": [
    "#Test the model\n",
    "test_loader = CustomDataLoader('/kaggle/input/petfinder-pawpularity-score/train/', test_df, metadata_columns, target_column, 32, (256, 256))\n",
    "#Custom testing loop for the model\n",
    "test_acc_values= []\n",
    "file= open('testing_log.txt', 'w')\n",
    "# Define the loss function, optimizer, and metrics\n",
    "for i, X in enumerate(test_loader):\n",
    "    X_images= X[0][0]\n",
    "    X_meta= X[0][1]\n",
    "    y= X[1]\n",
    "    logits = model([X_images, X_meta], training=False)\n",
    "#     logits= np.expm1(logits)\n",
    "    #Round the values to nearest integer\n",
    "#     logits= tf.math.round(logits)\n",
    "    file.write(f\"Predicted values: {logits}\\n\")\n",
    "    file.write(f\"Actual values: {y}\\n\")\n",
    "    # Compute the loss value\n",
    "    loss_value = loss_fn(y, logits)\n",
    "    # Update training metric\n",
    "    train_metric.update_state(y, logits)\n",
    "# Display metrics at the end of each epoch.\n",
    "test_acc = train_metric.result()\n",
    "print(f\"Test acc: {test_acc}\")\n",
    "file.write(f\"Test acc: {test_acc}\\n\")\n",
    "file.close()"
   ]
  },
  {
   "cell_type": "code",
   "execution_count": 13,
   "id": "013fa0d4",
   "metadata": {
    "execution": {
     "iopub.execute_input": "2024-04-08T14:34:47.325064Z",
     "iopub.status.busy": "2024-04-08T14:34:47.324097Z",
     "iopub.status.idle": "2024-04-08T14:34:48.311270Z",
     "shell.execute_reply": "2024-04-08T14:34:48.310426Z"
    },
    "papermill": {
     "duration": 1.000749,
     "end_time": "2024-04-08T14:34:48.313697",
     "exception": false,
     "start_time": "2024-04-08T14:34:47.312948",
     "status": "completed"
    },
    "tags": []
   },
   "outputs": [],
   "source": [
    "#save the model\n",
    "model.save_weights('pawpularity_model.weights.h5')"
   ]
  }
 ],
 "metadata": {
  "kaggle": {
   "accelerator": "nvidiaTeslaT4",
   "dataSources": [
    {
     "databundleVersionId": 2684322,
     "sourceId": 25383,
     "sourceType": "competition"
    }
   ],
   "dockerImageVersionId": 30664,
   "isGpuEnabled": true,
   "isInternetEnabled": true,
   "language": "python",
   "sourceType": "notebook"
  },
  "kernelspec": {
   "display_name": "Python 3",
   "language": "python",
   "name": "python3"
  },
  "language_info": {
   "codemirror_mode": {
    "name": "ipython",
    "version": 3
   },
   "file_extension": ".py",
   "mimetype": "text/x-python",
   "name": "python",
   "nbconvert_exporter": "python",
   "pygments_lexer": "ipython3",
   "version": "3.10.13"
  },
  "papermill": {
   "default_parameters": {},
   "duration": 5266.403535,
   "end_time": "2024-04-08T14:34:50.552910",
   "environment_variables": {},
   "exception": null,
   "input_path": "__notebook__.ipynb",
   "output_path": "__notebook__.ipynb",
   "parameters": {},
   "start_time": "2024-04-08T13:07:04.149375",
   "version": "2.5.0"
  }
 },
 "nbformat": 4,
 "nbformat_minor": 5
}
