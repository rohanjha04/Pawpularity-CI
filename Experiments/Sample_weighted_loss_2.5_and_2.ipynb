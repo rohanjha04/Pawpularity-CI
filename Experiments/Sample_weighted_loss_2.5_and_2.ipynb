{
 "cells": [
  {
   "cell_type": "code",
   "execution_count": 1,
   "id": "f5ecd753",
   "metadata": {
    "_cell_guid": "b1076dfc-b9ad-4769-8c92-a6c4dae69d19",
    "_uuid": "8f2839f25d086af736a60e9eeb907d3b93b6e0e5",
    "execution": {
     "iopub.execute_input": "2024-04-09T07:17:18.977550Z",
     "iopub.status.busy": "2024-04-09T07:17:18.976900Z",
     "iopub.status.idle": "2024-04-09T07:17:33.410664Z",
     "shell.execute_reply": "2024-04-09T07:17:33.409725Z"
    },
    "papermill": {
     "duration": 14.443165,
     "end_time": "2024-04-09T07:17:33.413249",
     "exception": false,
     "start_time": "2024-04-09T07:17:18.970084",
     "status": "completed"
    },
    "tags": []
   },
   "outputs": [
    {
     "name": "stderr",
     "output_type": "stream",
     "text": [
      "2024-04-09 07:17:21.227837: E external/local_xla/xla/stream_executor/cuda/cuda_dnn.cc:9261] Unable to register cuDNN factory: Attempting to register factory for plugin cuDNN when one has already been registered\n",
      "2024-04-09 07:17:21.227950: E external/local_xla/xla/stream_executor/cuda/cuda_fft.cc:607] Unable to register cuFFT factory: Attempting to register factory for plugin cuFFT when one has already been registered\n",
      "2024-04-09 07:17:21.401045: E external/local_xla/xla/stream_executor/cuda/cuda_blas.cc:1515] Unable to register cuBLAS factory: Attempting to register factory for plugin cuBLAS when one has already been registered\n"
     ]
    }
   ],
   "source": [
    "#import neccessary libraries\n",
    "import tensorflow as tf\n",
    "import numpy as np\n",
    "import pandas as pd\n",
    "import matplotlib.pyplot as plt\n",
    "import os\n",
    "import re"
   ]
  },
  {
   "cell_type": "code",
   "execution_count": 2,
   "id": "dbf5fd98",
   "metadata": {
    "execution": {
     "iopub.execute_input": "2024-04-09T07:17:33.425144Z",
     "iopub.status.busy": "2024-04-09T07:17:33.424625Z",
     "iopub.status.idle": "2024-04-09T07:17:33.476432Z",
     "shell.execute_reply": "2024-04-09T07:17:33.475622Z"
    },
    "papermill": {
     "duration": 0.059874,
     "end_time": "2024-04-09T07:17:33.478682",
     "exception": false,
     "start_time": "2024-04-09T07:17:33.418808",
     "status": "completed"
    },
    "tags": []
   },
   "outputs": [],
   "source": [
    "train_df= pd.read_csv('/kaggle/input/petfinder-pawpularity-score/train.csv')\n",
    "metadata_columns= ['Subject Focus', 'Eyes', 'Face', 'Near', 'Action', 'Accessory', 'Group', 'Collage', 'Human', 'Occlusion', 'Info', 'Blur']\n",
    "target_column= 'Pawpularity'\n",
    "#Move last 500 images to test set\n",
    "test_df= train_df.iloc[-500:]\n",
    "#Delete last 500 images from train set\n",
    "train_df= train_df.iloc[:-500]\n",
    "\n",
    "#Now use last 500 images for validation\n",
    "validation_df= train_df.iloc[-500:]\n",
    "#Delete last 500 images from train set\n",
    "train_df= train_df.iloc[:-500]"
   ]
  },
  {
   "cell_type": "code",
   "execution_count": 3,
   "id": "9e89f76d",
   "metadata": {
    "execution": {
     "iopub.execute_input": "2024-04-09T07:17:33.489636Z",
     "iopub.status.busy": "2024-04-09T07:17:33.489313Z",
     "iopub.status.idle": "2024-04-09T07:17:33.496463Z",
     "shell.execute_reply": "2024-04-09T07:17:33.495491Z"
    },
    "papermill": {
     "duration": 0.014721,
     "end_time": "2024-04-09T07:17:33.498519",
     "exception": false,
     "start_time": "2024-04-09T07:17:33.483798",
     "status": "completed"
    },
    "tags": []
   },
   "outputs": [
    {
     "data": {
      "text/plain": [
       "(8912, 500, 500)"
      ]
     },
     "execution_count": 3,
     "metadata": {},
     "output_type": "execute_result"
    }
   ],
   "source": [
    "len(train_df), len(validation_df), len(test_df)"
   ]
  },
  {
   "cell_type": "code",
   "execution_count": 4,
   "id": "8025f2f1",
   "metadata": {
    "execution": {
     "iopub.execute_input": "2024-04-09T07:17:33.509726Z",
     "iopub.status.busy": "2024-04-09T07:17:33.509239Z",
     "iopub.status.idle": "2024-04-09T07:17:33.522524Z",
     "shell.execute_reply": "2024-04-09T07:17:33.521771Z"
    },
    "papermill": {
     "duration": 0.020852,
     "end_time": "2024-04-09T07:17:33.524341",
     "exception": false,
     "start_time": "2024-04-09T07:17:33.503489",
     "status": "completed"
    },
    "tags": []
   },
   "outputs": [],
   "source": [
    "#Write custom dataloader in python to load and shuffle the images and meta data\n",
    "class CustomDataLoader(tf.keras.utils.Sequence):\n",
    "    def __init__(self, root_dir, df, metadata_columns, target_column, batch_size, image_size, shuffle=True):\n",
    "        self.root_dir = root_dir\n",
    "        self.df = df\n",
    "        self.metadata_columns = metadata_columns\n",
    "        self.target_column = target_column\n",
    "        self.batch_size = batch_size\n",
    "        self.image_size = image_size\n",
    "        self.shuffle = shuffle\n",
    "        self.indexes = np.arange(len(self.df))\n",
    "        if self.shuffle:\n",
    "            np.random.shuffle(self.indexes)\n",
    "    \n",
    "    def __len__(self):\n",
    "        return len(self.df) // self.batch_size #return the number of batches\n",
    "    \n",
    "    def on_epoch_end(self):\n",
    "        if self.shuffle:\n",
    "            np.random.shuffle(self.indexes) #shuffle the indexes after each epoch\n",
    "    \n",
    "    def __data_generation(self, indexes):\n",
    "        X= np.empty((self.batch_size, self.image_size[0], self.image_size[1], 3))\n",
    "        X_meta= np.empty((self.batch_size, len(self.metadata_columns)))\n",
    "        # X_combined= []\n",
    "        y= np.empty((self.batch_size, 1))\n",
    "        for i, index in enumerate(indexes):\n",
    "            image_path = self.root_dir + self.df.iloc[index]['Id'] + '.jpg'\n",
    "            image = tf.io.read_file(image_path)\n",
    "            image = tf.image.decode_jpeg(image, channels=3)\n",
    "            image = tf.image.resize(image, self.image_size)\n",
    "            image = image / 255.0 #normalize the image\n",
    "            image = tf.cast(image, tf.float16)\n",
    "            image = tf.image.random_flip_left_right(image) #random flip left right\n",
    "            X[i]= image.numpy() #convert tensor to numpy array\n",
    "            X_meta[i]= self.df.iloc[index][self.metadata_columns].values\n",
    "            y[i]= self.df.iloc[index][self.target_column]/100\n",
    "            #Apply log transformation to address skewness\n",
    "#             y[i]= np.log1p(y[i])\n",
    "#             y[i]= np.exp(y[i])\n",
    "        return X, X_meta, y\n",
    "    \n",
    "    def __getitem__(self, index):\n",
    "        indexes = self.indexes[index * self.batch_size : (index + 1) * self.batch_size]\n",
    "        X, X_meta, y = self.__data_generation(indexes)\n",
    "        y= tf.convert_to_tensor(y, dtype=tf.float32)\n",
    "        return [X,X_meta], y"
   ]
  },
  {
   "cell_type": "code",
   "execution_count": 5,
   "id": "5dcd79ef",
   "metadata": {
    "execution": {
     "iopub.execute_input": "2024-04-09T07:17:33.535226Z",
     "iopub.status.busy": "2024-04-09T07:17:33.534633Z",
     "iopub.status.idle": "2024-04-09T07:17:36.646671Z",
     "shell.execute_reply": "2024-04-09T07:17:36.645812Z"
    },
    "papermill": {
     "duration": 3.120221,
     "end_time": "2024-04-09T07:17:36.649152",
     "exception": false,
     "start_time": "2024-04-09T07:17:33.528931",
     "status": "completed"
    },
    "tags": []
   },
   "outputs": [
    {
     "name": "stdout",
     "output_type": "stream",
     "text": [
      "Downloading data from https://storage.googleapis.com/tensorflow/keras-applications/resnet/resnet50_weights_tf_dim_ordering_tf_kernels_notop.h5\n",
      "\u001b[1m94765736/94765736\u001b[0m \u001b[32m━━━━━━━━━━━━━━━━━━━━\u001b[0m\u001b[37m\u001b[0m \u001b[1m1s\u001b[0m 0us/step\n"
     ]
    }
   ],
   "source": [
    "#Define the model with resnet50 to extract features from images\n",
    "input_image = tf.keras.layers.Input(shape=(256, 256, 3))\n",
    "#convert image to greyscale\n",
    "# input_image = tf.keras.layers.Lambda(lambda x: tf.image.rgb_to_grayscale(x))(input_image)\n",
    "input_metadata = tf.keras.layers.Input(shape=(12,))\n",
    "# input_image = tf.keras.layers.RandomRotation(0.15)(input_image)\n",
    "base_model = tf.keras.applications.ResNet50(include_top=False, input_tensor=input_image,\n",
    "                                            weights='imagenet')\n",
    "# base_model= tf.keras.applications.SwinTransformer(include_top=False, input_tensor=input_image,\n",
    "#                                             weights='imagenet')\n",
    "for layer in base_model.layers:\n",
    "    layer.trainable= False\n",
    "x = base_model.output\n",
    "x2= tf.keras.layers.Flatten()(x)\n",
    "concat_layers = tf.keras.layers.Concatenate()([x2, input_metadata])\n",
    "l2= tf.keras.layers.Dense(512, activation='relu')(concat_layers)\n",
    "b1= tf.keras.layers.BatchNormalization()(l2)\n",
    "l3= tf.keras.layers.Dense(256, activation='relu')(b1)\n",
    "b2= tf.keras.layers.BatchNormalization()(l3)\n",
    "# l4= tf.keras.layers.Dense(128, activation='relu')(b2)\n",
    "# b3= tf.keras.layers.BatchNormalization()(l4)\n",
    "l5= tf.keras.layers.Dense(64, activation='relu')(b2)\n",
    "b4= tf.keras.layers.BatchNormalization()(l5)\n",
    "l6= tf.keras.layers.Dense(32, activation='relu')(b4)\n",
    "b5= tf.keras.layers.BatchNormalization()(l6)\n",
    "l7= tf.keras.layers.Dense(16, activation='relu')(b5)\n",
    "b6= tf.keras.layers.BatchNormalization()(l7)\n",
    "output_1 = tf.keras.layers.Dense(1, activation='sigmoid')(b6)\n",
    "#Output values between 0-100\n",
    "# output= output_1 * tf.constant([100.0], dtype=tf.float64)\n",
    "\n",
    "model = tf.keras.models.Model(inputs=[input_image,input_metadata], outputs=output_1)"
   ]
  },
  {
   "cell_type": "code",
   "execution_count": 6,
   "id": "7f289d14",
   "metadata": {
    "execution": {
     "iopub.execute_input": "2024-04-09T07:17:36.662612Z",
     "iopub.status.busy": "2024-04-09T07:17:36.662322Z",
     "iopub.status.idle": "2024-04-09T07:17:36.666099Z",
     "shell.execute_reply": "2024-04-09T07:17:36.665340Z"
    },
    "papermill": {
     "duration": 0.01257,
     "end_time": "2024-04-09T07:17:36.668009",
     "exception": false,
     "start_time": "2024-04-09T07:17:36.655439",
     "status": "completed"
    },
    "tags": []
   },
   "outputs": [],
   "source": [
    "# model.summary()"
   ]
  },
  {
   "cell_type": "code",
   "execution_count": 7,
   "id": "79190415",
   "metadata": {
    "execution": {
     "iopub.execute_input": "2024-04-09T07:17:36.680691Z",
     "iopub.status.busy": "2024-04-09T07:17:36.680085Z",
     "iopub.status.idle": "2024-04-09T07:17:36.684377Z",
     "shell.execute_reply": "2024-04-09T07:17:36.683510Z"
    },
    "papermill": {
     "duration": 0.01249,
     "end_time": "2024-04-09T07:17:36.686232",
     "exception": false,
     "start_time": "2024-04-09T07:17:36.673742",
     "status": "completed"
    },
    "tags": []
   },
   "outputs": [],
   "source": [
    "#Set dynamic learning rate to prevent overfitting\n",
    "initial_learning_rate = 0.008\n",
    "lr_schedule = tf.keras.optimizers.schedules.ExponentialDecay(\n",
    "    initial_learning_rate, decay_steps=10000, decay_rate=0.94, staircase=True\n",
    ")"
   ]
  },
  {
   "cell_type": "code",
   "execution_count": 8,
   "id": "36a7d079",
   "metadata": {
    "execution": {
     "iopub.execute_input": "2024-04-09T07:17:36.698926Z",
     "iopub.status.busy": "2024-04-09T07:17:36.698661Z",
     "iopub.status.idle": "2024-04-09T07:17:36.713158Z",
     "shell.execute_reply": "2024-04-09T07:17:36.712455Z"
    },
    "papermill": {
     "duration": 0.022765,
     "end_time": "2024-04-09T07:17:36.715090",
     "exception": false,
     "start_time": "2024-04-09T07:17:36.692325",
     "status": "completed"
    },
    "tags": []
   },
   "outputs": [],
   "source": [
    "model.compile(optimizer=tf.keras.optimizers.Adam(learning_rate=lr_schedule), \n",
    "              loss= tf.keras.losses.MeanSquaredError(), \n",
    "              metrics=[tf.keras.metrics.RootMeanSquaredError()])"
   ]
  },
  {
   "cell_type": "code",
   "execution_count": 9,
   "id": "ffdcbd0f",
   "metadata": {
    "execution": {
     "iopub.execute_input": "2024-04-09T07:17:36.727471Z",
     "iopub.status.busy": "2024-04-09T07:17:36.727212Z",
     "iopub.status.idle": "2024-04-09T07:17:36.731889Z",
     "shell.execute_reply": "2024-04-09T07:17:36.731002Z"
    },
    "papermill": {
     "duration": 0.012941,
     "end_time": "2024-04-09T07:17:36.733785",
     "exception": false,
     "start_time": "2024-04-09T07:17:36.720844",
     "status": "completed"
    },
    "tags": []
   },
   "outputs": [
    {
     "name": "stdout",
     "output_type": "stream",
     "text": [
      "[LogicalDevice(name='/device:GPU:0', device_type='GPU'), LogicalDevice(name='/device:GPU:1', device_type='GPU')]\n"
     ]
    }
   ],
   "source": [
    "print(tf.config.list_logical_devices('GPU'))"
   ]
  },
  {
   "cell_type": "code",
   "execution_count": 10,
   "id": "591e4542",
   "metadata": {
    "execution": {
     "iopub.execute_input": "2024-04-09T07:17:36.746215Z",
     "iopub.status.busy": "2024-04-09T07:17:36.745935Z",
     "iopub.status.idle": "2024-04-09T07:17:36.750405Z",
     "shell.execute_reply": "2024-04-09T07:17:36.749559Z"
    },
    "papermill": {
     "duration": 0.012917,
     "end_time": "2024-04-09T07:17:36.752383",
     "exception": false,
     "start_time": "2024-04-09T07:17:36.739466",
     "status": "completed"
    },
    "tags": []
   },
   "outputs": [],
   "source": [
    "def custom_loss(y1, y2):\n",
    "    error= (np.square(np.exp(5*y2)-np.exp(5*y1)))/1500\n",
    "    return tf.convert_to_tensor(error, dtype= tf.float32)"
   ]
  },
  {
   "cell_type": "code",
   "execution_count": 11,
   "id": "c7a9ff2b",
   "metadata": {
    "execution": {
     "iopub.execute_input": "2024-04-09T07:17:36.766430Z",
     "iopub.status.busy": "2024-04-09T07:17:36.766170Z",
     "iopub.status.idle": "2024-04-09T09:10:45.453945Z",
     "shell.execute_reply": "2024-04-09T09:10:45.452916Z"
    },
    "papermill": {
     "duration": 6788.696829,
     "end_time": "2024-04-09T09:10:45.456111",
     "exception": false,
     "start_time": "2024-04-09T07:17:36.759282",
     "status": "completed"
    },
    "tags": []
   },
   "outputs": [
    {
     "name": "stdout",
     "output_type": "stream",
     "text": [
      "Start of epoch 0\n",
      "Training acc over epoch: 0.21706369519233704\n",
      "Validation acc: 0.31324082612991333\n",
      "Start of epoch 1\n",
      "Training acc over epoch: 0.21296830475330353\n",
      "Validation acc: 0.2670629024505615\n",
      "Start of epoch 2\n",
      "Training acc over epoch: 0.21141839027404785\n",
      "Validation acc: 0.25462663173675537\n",
      "Start of epoch 3\n",
      "Training acc over epoch: 0.2104671746492386\n",
      "Validation acc: 0.24381151795387268\n",
      "Start of epoch 4\n",
      "Training acc over epoch: 0.20989742875099182\n",
      "Validation acc: 0.2374909520149231\n",
      "Start of epoch 5\n",
      "Training acc over epoch: 0.20936302840709686\n",
      "Validation acc: 0.23308876156806946\n",
      "Start of epoch 6\n",
      "Training acc over epoch: 0.20891283452510834\n",
      "Validation acc: 0.23015721142292023\n",
      "Start of epoch 7\n",
      "Training acc over epoch: 0.20848232507705688\n",
      "Validation acc: 0.22948554158210754\n",
      "Start of epoch 8\n",
      "Training acc over epoch: 0.20801618695259094\n",
      "Validation acc: 0.22760631144046783\n",
      "Start of epoch 9\n",
      "Training acc over epoch: 0.20758405327796936\n",
      "Validation acc: 0.2264241874217987\n",
      "Start of epoch 10\n",
      "Training acc over epoch: 0.20708288252353668\n",
      "Validation acc: 0.22750791907310486\n",
      "Start of epoch 11\n",
      "Training acc over epoch: 0.20655566453933716\n",
      "Validation acc: 0.2264433354139328\n",
      "Start of epoch 12\n",
      "Training acc over epoch: 0.20604705810546875\n",
      "Validation acc: 0.225577712059021\n",
      "Start of epoch 13\n",
      "Training acc over epoch: 0.20546653866767883\n",
      "Validation acc: 0.2249341756105423\n",
      "Start of epoch 14\n",
      "Training acc over epoch: 0.2048688381910324\n",
      "Validation acc: 0.22557993233203888\n",
      "Start of epoch 15\n",
      "Training acc over epoch: 0.20426468551158905\n",
      "Validation acc: 0.22825828194618225\n",
      "Start of epoch 16\n",
      "Training acc over epoch: 0.20360809564590454\n",
      "Validation acc: 0.22963887453079224\n",
      "Start of epoch 17\n",
      "Training acc over epoch: 0.20287634432315826\n",
      "Validation acc: 0.22911427915096283\n",
      "Start of epoch 18\n",
      "Training acc over epoch: 0.20222271978855133\n",
      "Validation acc: 0.2286943793296814\n",
      "Start of epoch 19\n",
      "Training acc over epoch: 0.20145924389362335\n",
      "Validation acc: 0.2315458357334137\n",
      "Start of epoch 20\n",
      "Training acc over epoch: 0.20068670809268951\n",
      "Validation acc: 0.23146027326583862\n",
      "Start of epoch 21\n",
      "Training acc over epoch: 0.19983510673046112\n",
      "Validation acc: 0.23356777429580688\n",
      "Start of epoch 22\n",
      "Training acc over epoch: 0.1990937888622284\n",
      "Validation acc: 0.23412680625915527\n",
      "Start of epoch 23\n",
      "Training acc over epoch: 0.19830414652824402\n",
      "Validation acc: 0.2360677719116211\n",
      "Start of epoch 24\n",
      "Training acc over epoch: 0.1974608600139618\n",
      "Validation acc: 0.23658911883831024\n"
     ]
    }
   ],
   "source": [
    "#Train the model\n",
    "train_loader = CustomDataLoader('/kaggle/input/petfinder-pawpularity-score/train/', train_df, metadata_columns, target_column, 32, (256, 256))\n",
    "validation_loader = CustomDataLoader('/kaggle/input/petfinder-pawpularity-score/train/', test_df, metadata_columns, target_column, 32, (256, 256))\n",
    "\n",
    "#Custom training loop for the model\n",
    "epochs= 25\n",
    "train_acc_values= []\n",
    "val_acc_values= []\n",
    "file= open('training_log.txt', 'w')\n",
    "# Define the loss function, optimizer, and metrics\n",
    "loss_fn = tf.keras.losses.MeanSquaredError()\n",
    "optimizer=tf.keras.optimizers.Adam(learning_rate=lr_schedule)\n",
    "train_metric = tf.keras.metrics.RootMeanSquaredError()\n",
    "val_metric = tf.keras.metrics.RootMeanSquaredError()\n",
    "\n",
    "# Loop over the epochs\n",
    "for epoch in range(epochs):\n",
    "    print(f\"Start of epoch {epoch}\")\n",
    "    file.write(f\"Start of epoch {epoch}\\n\")\n",
    "    #Iterate over the batches of dataset\n",
    "    for i, X in enumerate(train_loader):\n",
    "        X_images= X[0][0]\n",
    "        X_meta= X[0][1]\n",
    "        y= X[1]\n",
    "        with tf.GradientTape() as tape:\n",
    "            # Forward pass\n",
    "            logits = model([X_images, X_meta], training=True)\n",
    "#             sample_weights= tf.exp(y*3)\n",
    "            #Sample weights\n",
    "#             sample_weights= tf.where(y>np.exp(0.50), 10, 1)\n",
    "            sample_weights= tf.where(y<0.2, 2.5, tf.where(y>0.5, 2.0, 1.0))\n",
    "#             sample_weights= np.array()\n",
    "            # Compute the loss value\n",
    "            loss_value = loss_fn(y, logits, sample_weight= sample_weights)\n",
    "#             loss_value= custom_loss(y, logits)\n",
    "        # Backward pass\n",
    "        grads = tape.gradient(loss_value, model.trainable_weights)\n",
    "        # Update the weights\n",
    "        optimizer.apply_gradients(zip(grads, model.trainable_weights))\n",
    "        # Update training metric\n",
    "        train_metric.update_state(y, logits)\n",
    "    # Display metrics at the end of each epoch.\n",
    "    train_acc = train_metric.result()\n",
    "    print(f\"Training acc over epoch: {train_acc}\")\n",
    "    file.write(f\"Training acc over epoch: {train_acc}\\n\")\n",
    "    # Reset training metrics at the end of each epoch\n",
    "#     train_metric.reset_states()\n",
    "    # Run a validation loop at the end of each epoch.\n",
    "    for i, X in enumerate(validation_loader):\n",
    "        X_images= X[0][0]\n",
    "        X_meta= X[0][1]\n",
    "        y= X[1]\n",
    "        val_logits = model([X_images, X_meta], training=False)\n",
    "        # Update val metrics\n",
    "        val_metric.update_state(y, val_logits)\n",
    "    val_acc = val_metric.result()\n",
    "#     val_metric.reset_states()\n",
    "    print(f\"Validation acc: {val_acc}\")\n",
    "    file.write(f\"Validation acc: {val_acc}\\n\")\n",
    "    \n",
    "    #Store values for plotting\n",
    "    train_acc_values.append(train_acc)\n",
    "    val_acc_values.append(val_acc)\n",
    "file.close()   "
   ]
  },
  {
   "cell_type": "code",
   "execution_count": 12,
   "id": "c803de51",
   "metadata": {
    "execution": {
     "iopub.execute_input": "2024-04-09T09:10:45.477984Z",
     "iopub.status.busy": "2024-04-09T09:10:45.477697Z",
     "iopub.status.idle": "2024-04-09T09:10:45.481416Z",
     "shell.execute_reply": "2024-04-09T09:10:45.480675Z"
    },
    "papermill": {
     "duration": 0.016412,
     "end_time": "2024-04-09T09:10:45.483239",
     "exception": false,
     "start_time": "2024-04-09T09:10:45.466827",
     "status": "completed"
    },
    "tags": []
   },
   "outputs": [],
   "source": [
    "# train_loader = CustomDataLoader('/kaggle/input/petfinder-pawpularity-score/train/', train_df, metadata_columns, target_column, 32, (100, 100))\n",
    "# validation_loader = CustomDataLoader('/kaggle/input/petfinder-pawpularity-score/train/', test_df, metadata_columns, target_column, 32, (100, 100))\n",
    "# history= model.fit(train_loader, validation_data= validation_loader, epochs= 2)"
   ]
  },
  {
   "cell_type": "code",
   "execution_count": 13,
   "id": "8517007c",
   "metadata": {
    "execution": {
     "iopub.execute_input": "2024-04-09T09:10:45.503413Z",
     "iopub.status.busy": "2024-04-09T09:10:45.502919Z",
     "iopub.status.idle": "2024-04-09T09:10:55.111879Z",
     "shell.execute_reply": "2024-04-09T09:10:55.110894Z"
    },
    "papermill": {
     "duration": 9.621986,
     "end_time": "2024-04-09T09:10:55.114605",
     "exception": false,
     "start_time": "2024-04-09T09:10:45.492619",
     "status": "completed"
    },
    "tags": []
   },
   "outputs": [
    {
     "name": "stdout",
     "output_type": "stream",
     "text": [
      "Test acc: 0.19759021699428558\n"
     ]
    }
   ],
   "source": [
    "#Test the model\n",
    "test_loader = CustomDataLoader('/kaggle/input/petfinder-pawpularity-score/train/', test_df, metadata_columns, target_column, 32, (256, 256))\n",
    "#Custom testing loop for the model\n",
    "test_acc_values= []\n",
    "file= open('testing_log.txt', 'w')\n",
    "# Define the loss function, optimizer, and metrics\n",
    "for i, X in enumerate(test_loader):\n",
    "    X_images= X[0][0]\n",
    "    X_meta= X[0][1]\n",
    "    y= X[1]\n",
    "    logits = model([X_images, X_meta], training=False)\n",
    "#     logits= np.log(logits)\n",
    "#     y= np.log(y)\n",
    "#     logits= np.expm1(logits)\n",
    "    #Round the values to nearest integer\n",
    "#     logits= tf.math.round(logits)\n",
    "    file.write(f\"Predicted values: {logits}\\n\")\n",
    "    file.write(f\"Actual values: {y}\\n\")\n",
    "    # Compute the loss value\n",
    "    loss_value = loss_fn(y, logits)\n",
    "    # Update training metric\n",
    "    train_metric.update_state(y, logits)\n",
    "# Display metrics at the end of each epoch.\n",
    "test_acc = train_metric.result()\n",
    "print(f\"Test acc: {test_acc}\")\n",
    "file.write(f\"Test acc: {test_acc}\\n\")\n",
    "file.close()"
   ]
  },
  {
   "cell_type": "code",
   "execution_count": 14,
   "id": "68f01aed",
   "metadata": {
    "execution": {
     "iopub.execute_input": "2024-04-09T09:10:55.138052Z",
     "iopub.status.busy": "2024-04-09T09:10:55.137763Z",
     "iopub.status.idle": "2024-04-09T09:10:56.202633Z",
     "shell.execute_reply": "2024-04-09T09:10:56.201635Z"
    },
    "papermill": {
     "duration": 1.079102,
     "end_time": "2024-04-09T09:10:56.205080",
     "exception": false,
     "start_time": "2024-04-09T09:10:55.125978",
     "status": "completed"
    },
    "tags": []
   },
   "outputs": [],
   "source": [
    "#save the model\n",
    "model.save_weights('pawpularity_model.weights.h5')"
   ]
  }
 ],
 "metadata": {
  "kaggle": {
   "accelerator": "nvidiaTeslaT4",
   "dataSources": [
    {
     "databundleVersionId": 2684322,
     "sourceId": 25383,
     "sourceType": "competition"
    }
   ],
   "dockerImageVersionId": 30664,
   "isGpuEnabled": true,
   "isInternetEnabled": true,
   "language": "python",
   "sourceType": "notebook"
  },
  "kernelspec": {
   "display_name": "Python 3",
   "language": "python",
   "name": "python3"
  },
  "language_info": {
   "codemirror_mode": {
    "name": "ipython",
    "version": 3
   },
   "file_extension": ".py",
   "mimetype": "text/x-python",
   "name": "python",
   "nbconvert_exporter": "python",
   "pygments_lexer": "ipython3",
   "version": "3.10.13"
  },
  "papermill": {
   "default_parameters": {},
   "duration": 6822.363469,
   "end_time": "2024-04-09T09:10:58.260188",
   "environment_variables": {},
   "exception": null,
   "input_path": "__notebook__.ipynb",
   "output_path": "__notebook__.ipynb",
   "parameters": {},
   "start_time": "2024-04-09T07:17:15.896719",
   "version": "2.5.0"
  }
 },
 "nbformat": 4,
 "nbformat_minor": 5
}
