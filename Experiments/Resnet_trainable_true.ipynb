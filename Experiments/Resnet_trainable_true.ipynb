{
 "cells": [
  {
   "cell_type": "code",
   "execution_count": 1,
   "id": "6af60611",
   "metadata": {
    "_cell_guid": "b1076dfc-b9ad-4769-8c92-a6c4dae69d19",
    "_uuid": "8f2839f25d086af736a60e9eeb907d3b93b6e0e5",
    "execution": {
     "iopub.execute_input": "2024-04-07T08:27:35.245216Z",
     "iopub.status.busy": "2024-04-07T08:27:35.244790Z",
     "iopub.status.idle": "2024-04-07T08:27:56.062645Z",
     "shell.execute_reply": "2024-04-07T08:27:56.061749Z"
    },
    "papermill": {
     "duration": 20.828105,
     "end_time": "2024-04-07T08:27:56.065380",
     "exception": false,
     "start_time": "2024-04-07T08:27:35.237275",
     "status": "completed"
    },
    "tags": []
   },
   "outputs": [
    {
     "name": "stderr",
     "output_type": "stream",
     "text": [
      "2024-04-07 08:27:38.885536: E external/local_xla/xla/stream_executor/cuda/cuda_dnn.cc:9261] Unable to register cuDNN factory: Attempting to register factory for plugin cuDNN when one has already been registered\n",
      "2024-04-07 08:27:38.885665: E external/local_xla/xla/stream_executor/cuda/cuda_fft.cc:607] Unable to register cuFFT factory: Attempting to register factory for plugin cuFFT when one has already been registered\n",
      "2024-04-07 08:27:39.172985: E external/local_xla/xla/stream_executor/cuda/cuda_blas.cc:1515] Unable to register cuBLAS factory: Attempting to register factory for plugin cuBLAS when one has already been registered\n"
     ]
    }
   ],
   "source": [
    "#import neccessary libraries\n",
    "import tensorflow as tf\n",
    "import numpy as np\n",
    "import pandas as pd\n",
    "import matplotlib.pyplot as plt\n",
    "import os\n",
    "import re"
   ]
  },
  {
   "cell_type": "code",
   "execution_count": 2,
   "id": "8093257c",
   "metadata": {
    "execution": {
     "iopub.execute_input": "2024-04-07T08:27:56.077894Z",
     "iopub.status.busy": "2024-04-07T08:27:56.077193Z",
     "iopub.status.idle": "2024-04-07T08:27:56.129122Z",
     "shell.execute_reply": "2024-04-07T08:27:56.128010Z"
    },
    "papermill": {
     "duration": 0.061011,
     "end_time": "2024-04-07T08:27:56.131840",
     "exception": false,
     "start_time": "2024-04-07T08:27:56.070829",
     "status": "completed"
    },
    "tags": []
   },
   "outputs": [],
   "source": [
    "train_df= pd.read_csv('/kaggle/input/petfinder-pawpularity-score/train.csv')\n",
    "metadata_columns= ['Subject Focus', 'Eyes', 'Face', 'Near', 'Action', 'Accessory', 'Group', 'Collage', 'Human', 'Occlusion', 'Info', 'Blur']\n",
    "target_column= 'Pawpularity'\n",
    "#Move last 500 images to test set\n",
    "test_df= train_df.iloc[-500:]\n",
    "#Delete last 500 images from train set\n",
    "train_df= train_df.iloc[:-500]\n",
    "\n",
    "#Now use last 500 images for validation\n",
    "validation_df= train_df.iloc[-500:]\n",
    "#Delete last 500 images from train set\n",
    "train_df= train_df.iloc[:-500]"
   ]
  },
  {
   "cell_type": "code",
   "execution_count": 3,
   "id": "46aa54e6",
   "metadata": {
    "execution": {
     "iopub.execute_input": "2024-04-07T08:27:56.153145Z",
     "iopub.status.busy": "2024-04-07T08:27:56.152401Z",
     "iopub.status.idle": "2024-04-07T08:27:56.160833Z",
     "shell.execute_reply": "2024-04-07T08:27:56.159722Z"
    },
    "papermill": {
     "duration": 0.01763,
     "end_time": "2024-04-07T08:27:56.162927",
     "exception": false,
     "start_time": "2024-04-07T08:27:56.145297",
     "status": "completed"
    },
    "tags": []
   },
   "outputs": [
    {
     "data": {
      "text/plain": [
       "(8912, 500, 500)"
      ]
     },
     "execution_count": 3,
     "metadata": {},
     "output_type": "execute_result"
    }
   ],
   "source": [
    "len(train_df), len(validation_df), len(test_df)"
   ]
  },
  {
   "cell_type": "code",
   "execution_count": 4,
   "id": "a6c9a2d5",
   "metadata": {
    "execution": {
     "iopub.execute_input": "2024-04-07T08:27:56.174105Z",
     "iopub.status.busy": "2024-04-07T08:27:56.173769Z",
     "iopub.status.idle": "2024-04-07T08:27:56.187028Z",
     "shell.execute_reply": "2024-04-07T08:27:56.186148Z"
    },
    "papermill": {
     "duration": 0.021103,
     "end_time": "2024-04-07T08:27:56.188878",
     "exception": false,
     "start_time": "2024-04-07T08:27:56.167775",
     "status": "completed"
    },
    "tags": []
   },
   "outputs": [],
   "source": [
    "#Write custom dataloader in python to load and shuffle the images and meta data\n",
    "class CustomDataLoader(tf.keras.utils.Sequence):\n",
    "    def __init__(self, root_dir, df, metadata_columns, target_column, batch_size, image_size, shuffle=True):\n",
    "        self.root_dir = root_dir\n",
    "        self.df = df\n",
    "        self.metadata_columns = metadata_columns\n",
    "        self.target_column = target_column\n",
    "        self.batch_size = batch_size\n",
    "        self.image_size = image_size\n",
    "        self.shuffle = shuffle\n",
    "        self.indexes = np.arange(len(self.df))\n",
    "        if self.shuffle:\n",
    "            np.random.shuffle(self.indexes)\n",
    "    \n",
    "    def __len__(self):\n",
    "        return len(self.df) // self.batch_size #return the number of batches\n",
    "    \n",
    "    def on_epoch_end(self):\n",
    "        if self.shuffle:\n",
    "            np.random.shuffle(self.indexes) #shuffle the indexes after each epoch\n",
    "    \n",
    "    def __data_generation(self, indexes):\n",
    "        X= np.empty((self.batch_size, self.image_size[0], self.image_size[1], 3))\n",
    "        X_meta= np.empty((self.batch_size, len(self.metadata_columns)))\n",
    "        # X_combined= []\n",
    "        y= np.empty((self.batch_size, 1))\n",
    "        for i, index in enumerate(indexes):\n",
    "            image_path = self.root_dir + self.df.iloc[index]['Id'] + '.jpg'\n",
    "            image = tf.io.read_file(image_path)\n",
    "            image = tf.image.decode_jpeg(image, channels=3)\n",
    "            image = tf.image.resize(image, self.image_size)\n",
    "            image = image / 255.0 #normalize the image\n",
    "            image = tf.cast(image, tf.float16)\n",
    "            image = tf.image.random_flip_left_right(image) #random flip left right\n",
    "            X[i]= image.numpy() #convert tensor to numpy array\n",
    "            X_meta[i]= self.df.iloc[index][self.metadata_columns].values\n",
    "            y[i]= self.df.iloc[index][self.target_column]/100\n",
    "        return X, X_meta, y\n",
    "    \n",
    "    def __getitem__(self, index):\n",
    "        indexes = self.indexes[index * self.batch_size : (index + 1) * self.batch_size]\n",
    "        X, X_meta, y = self.__data_generation(indexes)\n",
    "        y= tf.convert_to_tensor(y, dtype=tf.float32)\n",
    "        return [X,X_meta], y"
   ]
  },
  {
   "cell_type": "code",
   "execution_count": 5,
   "id": "d5965cff",
   "metadata": {
    "execution": {
     "iopub.execute_input": "2024-04-07T08:27:56.199644Z",
     "iopub.status.busy": "2024-04-07T08:27:56.199353Z",
     "iopub.status.idle": "2024-04-07T08:27:59.412644Z",
     "shell.execute_reply": "2024-04-07T08:27:59.411804Z"
    },
    "papermill": {
     "duration": 3.221225,
     "end_time": "2024-04-07T08:27:59.415082",
     "exception": false,
     "start_time": "2024-04-07T08:27:56.193857",
     "status": "completed"
    },
    "tags": []
   },
   "outputs": [
    {
     "name": "stdout",
     "output_type": "stream",
     "text": [
      "Downloading data from https://storage.googleapis.com/tensorflow/keras-applications/resnet/resnet50_weights_tf_dim_ordering_tf_kernels_notop.h5\n",
      "\u001b[1m94765736/94765736\u001b[0m \u001b[32m━━━━━━━━━━━━━━━━━━━━\u001b[0m\u001b[37m\u001b[0m \u001b[1m0s\u001b[0m 0us/step\n"
     ]
    }
   ],
   "source": [
    "#Define the model with resnet50 to extract features from images\n",
    "input_image = tf.keras.layers.Input(shape=(256, 256, 3))\n",
    "#convert image to greyscale\n",
    "# input_image = tf.keras.layers.Lambda(lambda x: tf.image.rgb_to_grayscale(x))(input_image)\n",
    "input_metadata = tf.keras.layers.Input(shape=(12,))\n",
    "input_image = tf.keras.layers.RandomRotation(0.15)(input_image)\n",
    "# base_model = tf.keras.applications.ResNet50(include_top=False, input_tensor=input_image,\n",
    "#                                             weights='imagenet')\n",
    "base_model= tf.keras.applications.ResNet50(include_top=False, input_tensor=input_image,\n",
    "                                            weights='imagenet')\n",
    "for layer in base_model.layers:\n",
    "    layer.trainable= True\n",
    "x = base_model.output\n",
    "x1= tf.keras.layers.GlobalAveragePooling2D()(x)\n",
    "x2= tf.keras.layers.Flatten()(x1)\n",
    "l1= tf.keras.layers.Dense(2048, activation='relu')(x2)\n",
    "concat_layers = tf.keras.layers.Concatenate()([l1, input_metadata])\n",
    "l2= tf.keras.layers.Dense(512, activation='relu')(concat_layers)\n",
    "b1= tf.keras.layers.BatchNormalization()(l2)\n",
    "l3= tf.keras.layers.Dense(256, activation='relu')(b1)\n",
    "b2= tf.keras.layers.BatchNormalization()(l3)\n",
    "# l4= tf.keras.layers.Dense(128, activation='relu')(b2)\n",
    "# b3= tf.keras.layers.BatchNormalization()(l4)\n",
    "l5= tf.keras.layers.Dense(64, activation='relu')(b2)\n",
    "b4= tf.keras.layers.BatchNormalization()(l5)\n",
    "l6= tf.keras.layers.Dense(32, activation='relu')(b4)\n",
    "b5= tf.keras.layers.BatchNormalization()(l6)\n",
    "l7= tf.keras.layers.Dense(16, activation='relu')(b5)\n",
    "b6= tf.keras.layers.BatchNormalization()(l7)\n",
    "output_1 = tf.keras.layers.Dense(1, activation='sigmoid')(b6)\n",
    "#Output values between 0-100\n",
    "# output= output_1 * tf.constant([100.0], dtype=tf.float64)\n",
    "\n",
    "model = tf.keras.models.Model(inputs=[input_image,input_metadata], outputs=output_1)"
   ]
  },
  {
   "cell_type": "code",
   "execution_count": 6,
   "id": "9d820dd3",
   "metadata": {
    "execution": {
     "iopub.execute_input": "2024-04-07T08:27:59.429044Z",
     "iopub.status.busy": "2024-04-07T08:27:59.428647Z",
     "iopub.status.idle": "2024-04-07T08:27:59.433259Z",
     "shell.execute_reply": "2024-04-07T08:27:59.432173Z"
    },
    "papermill": {
     "duration": 0.014344,
     "end_time": "2024-04-07T08:27:59.435471",
     "exception": false,
     "start_time": "2024-04-07T08:27:59.421127",
     "status": "completed"
    },
    "tags": []
   },
   "outputs": [],
   "source": [
    "# model.summary()"
   ]
  },
  {
   "cell_type": "code",
   "execution_count": 7,
   "id": "4c77897e",
   "metadata": {
    "execution": {
     "iopub.execute_input": "2024-04-07T08:27:59.449341Z",
     "iopub.status.busy": "2024-04-07T08:27:59.448952Z",
     "iopub.status.idle": "2024-04-07T08:27:59.454531Z",
     "shell.execute_reply": "2024-04-07T08:27:59.453527Z"
    },
    "papermill": {
     "duration": 0.014844,
     "end_time": "2024-04-07T08:27:59.456529",
     "exception": false,
     "start_time": "2024-04-07T08:27:59.441685",
     "status": "completed"
    },
    "tags": []
   },
   "outputs": [],
   "source": [
    "#Set dynamic learning rate to prevent overfitting\n",
    "initial_learning_rate = 0.001\n",
    "lr_schedule = tf.keras.optimizers.schedules.ExponentialDecay(\n",
    "    initial_learning_rate, decay_steps=100000, decay_rate=0.96, staircase=True\n",
    ")"
   ]
  },
  {
   "cell_type": "code",
   "execution_count": 8,
   "id": "8c635013",
   "metadata": {
    "execution": {
     "iopub.execute_input": "2024-04-07T08:27:59.469653Z",
     "iopub.status.busy": "2024-04-07T08:27:59.469287Z",
     "iopub.status.idle": "2024-04-07T08:27:59.484906Z",
     "shell.execute_reply": "2024-04-07T08:27:59.484140Z"
    },
    "papermill": {
     "duration": 0.024746,
     "end_time": "2024-04-07T08:27:59.487334",
     "exception": false,
     "start_time": "2024-04-07T08:27:59.462588",
     "status": "completed"
    },
    "tags": []
   },
   "outputs": [],
   "source": [
    "model.compile(optimizer=tf.keras.optimizers.Adam(learning_rate=lr_schedule), \n",
    "              loss= tf.keras.losses.MeanSquaredError(), \n",
    "              metrics=[tf.keras.metrics.RootMeanSquaredError()])"
   ]
  },
  {
   "cell_type": "code",
   "execution_count": 9,
   "id": "abaa79f6",
   "metadata": {
    "execution": {
     "iopub.execute_input": "2024-04-07T08:27:59.501067Z",
     "iopub.status.busy": "2024-04-07T08:27:59.500641Z",
     "iopub.status.idle": "2024-04-07T08:27:59.505869Z",
     "shell.execute_reply": "2024-04-07T08:27:59.504897Z"
    },
    "papermill": {
     "duration": 0.014942,
     "end_time": "2024-04-07T08:27:59.508431",
     "exception": false,
     "start_time": "2024-04-07T08:27:59.493489",
     "status": "completed"
    },
    "tags": []
   },
   "outputs": [
    {
     "name": "stdout",
     "output_type": "stream",
     "text": [
      "[LogicalDevice(name='/device:GPU:0', device_type='GPU'), LogicalDevice(name='/device:GPU:1', device_type='GPU')]\n"
     ]
    }
   ],
   "source": [
    "print(tf.config.list_logical_devices('GPU'))"
   ]
  },
  {
   "cell_type": "code",
   "execution_count": 10,
   "id": "aaab19e4",
   "metadata": {
    "execution": {
     "iopub.execute_input": "2024-04-07T08:27:59.522127Z",
     "iopub.status.busy": "2024-04-07T08:27:59.521752Z",
     "iopub.status.idle": "2024-04-07T10:51:54.252269Z",
     "shell.execute_reply": "2024-04-07T10:51:54.251163Z"
    },
    "papermill": {
     "duration": 8634.739851,
     "end_time": "2024-04-07T10:51:54.254479",
     "exception": false,
     "start_time": "2024-04-07T08:27:59.514628",
     "status": "completed"
    },
    "tags": []
   },
   "outputs": [
    {
     "name": "stdout",
     "output_type": "stream",
     "text": [
      "Start of epoch 0\n",
      "Training acc over epoch: 0.2250514030456543\n",
      "Validation acc: 0.20380042493343353\n",
      "Start of epoch 1\n",
      "Training acc over epoch: 0.21686577796936035\n",
      "Validation acc: 0.20373761653900146\n",
      "Start of epoch 2\n",
      "Training acc over epoch: 0.21395868062973022\n",
      "Validation acc: 0.20444563031196594\n",
      "Start of epoch 3\n",
      "Training acc over epoch: 0.21238771080970764\n",
      "Validation acc: 0.20613989233970642\n",
      "Start of epoch 4\n",
      "Training acc over epoch: 0.21136794984340668\n",
      "Validation acc: 0.2061283141374588\n",
      "Start of epoch 5\n",
      "Training acc over epoch: 0.2106987088918686\n",
      "Validation acc: 0.21059589087963104\n",
      "Start of epoch 6\n",
      "Training acc over epoch: 0.2101793736219406\n",
      "Validation acc: 0.2099493443965912\n",
      "Start of epoch 7\n",
      "Training acc over epoch: 0.20975930988788605\n",
      "Validation acc: 0.2095445692539215\n",
      "Start of epoch 8\n",
      "Training acc over epoch: 0.20945744216442108\n",
      "Validation acc: 0.21102312207221985\n",
      "Start of epoch 9\n",
      "Training acc over epoch: 0.2092149257659912\n",
      "Validation acc: 0.21167713403701782\n",
      "Start of epoch 10\n",
      "Training acc over epoch: 0.20900093019008636\n",
      "Validation acc: 0.22129017114639282\n",
      "Start of epoch 11\n",
      "Training acc over epoch: 0.20881441235542297\n",
      "Validation acc: 0.22003914415836334\n",
      "Start of epoch 12\n",
      "Training acc over epoch: 0.20866964757442474\n",
      "Validation acc: 0.22513243556022644\n",
      "Start of epoch 13\n",
      "Training acc over epoch: 0.20852050185203552\n",
      "Validation acc: 0.22369349002838135\n",
      "Start of epoch 14\n",
      "Training acc over epoch: 0.20839881896972656\n",
      "Validation acc: 0.22242026031017303\n"
     ]
    }
   ],
   "source": [
    "#Train the model\n",
    "train_loader = CustomDataLoader('/kaggle/input/petfinder-pawpularity-score/train/', train_df, metadata_columns, target_column, 32, (256, 256))\n",
    "validation_loader = CustomDataLoader('/kaggle/input/petfinder-pawpularity-score/train/', test_df, metadata_columns, target_column, 32, (256, 256))\n",
    "\n",
    "#Custom training loop for the model\n",
    "epochs= 15\n",
    "train_acc_values= []\n",
    "val_acc_values= []\n",
    "file= open('training_log.txt', 'w')\n",
    "# Define the loss function, optimizer, and metrics\n",
    "loss_fn = tf.keras.losses.MeanSquaredError()\n",
    "optimizer=tf.keras.optimizers.Adam(learning_rate=lr_schedule)\n",
    "train_metric = tf.keras.metrics.RootMeanSquaredError()\n",
    "val_metric = tf.keras.metrics.RootMeanSquaredError()\n",
    "\n",
    "# Loop over the epochs\n",
    "for epoch in range(epochs):\n",
    "    print(f\"Start of epoch {epoch}\")\n",
    "    file.write(f\"Start of epoch {epoch}\\n\")\n",
    "    #Iterate over the batches of dataset\n",
    "    for i, X in enumerate(train_loader):\n",
    "        X_images= X[0][0]\n",
    "        X_meta= X[0][1]\n",
    "        y= X[1]\n",
    "        with tf.GradientTape() as tape:\n",
    "            # Forward pass\n",
    "            logits = model([X_images, X_meta], training=True)\n",
    "            # Compute the loss value\n",
    "            loss_value = loss_fn(y, logits)\n",
    "        # Backward pass\n",
    "        grads = tape.gradient(loss_value, model.trainable_weights)\n",
    "        # Update the weights\n",
    "        optimizer.apply_gradients(zip(grads, model.trainable_weights))\n",
    "        # Update training metric\n",
    "        train_metric.update_state(y, logits)\n",
    "    # Display metrics at the end of each epoch.\n",
    "    train_acc = train_metric.result()\n",
    "    print(f\"Training acc over epoch: {train_acc}\")\n",
    "    file.write(f\"Training acc over epoch: {train_acc}\\n\")\n",
    "    # Reset training metrics at the end of each epoch\n",
    "#     train_metric.reset_states()\n",
    "    # Run a validation loop at the end of each epoch.\n",
    "    for i, X in enumerate(validation_loader):\n",
    "        X_images= X[0][0]\n",
    "        X_meta= X[0][1]\n",
    "        y= X[1]\n",
    "        val_logits = model([X_images, X_meta], training=False)\n",
    "        # Update val metrics\n",
    "        val_metric.update_state(y, val_logits)\n",
    "    val_acc = val_metric.result()\n",
    "#     val_metric.reset_states()\n",
    "    print(f\"Validation acc: {val_acc}\")\n",
    "    file.write(f\"Validation acc: {val_acc}\\n\")\n",
    "    \n",
    "    #Store values for plotting\n",
    "    train_acc_values.append(train_acc)\n",
    "    val_acc_values.append(val_acc)\n",
    "file.close()\n",
    "    "
   ]
  },
  {
   "cell_type": "code",
   "execution_count": 11,
   "id": "b642d8fb",
   "metadata": {
    "execution": {
     "iopub.execute_input": "2024-04-07T10:51:54.272593Z",
     "iopub.status.busy": "2024-04-07T10:51:54.272260Z",
     "iopub.status.idle": "2024-04-07T10:51:54.276387Z",
     "shell.execute_reply": "2024-04-07T10:51:54.275485Z"
    },
    "papermill": {
     "duration": 0.015347,
     "end_time": "2024-04-07T10:51:54.278278",
     "exception": false,
     "start_time": "2024-04-07T10:51:54.262931",
     "status": "completed"
    },
    "tags": []
   },
   "outputs": [],
   "source": [
    "# train_loader = CustomDataLoader('/kaggle/input/petfinder-pawpularity-score/train/', train_df, metadata_columns, target_column, 32, (100, 100))\n",
    "# validation_loader = CustomDataLoader('/kaggle/input/petfinder-pawpularity-score/train/', test_df, metadata_columns, target_column, 32, (100, 100))\n",
    "# history= model.fit(train_loader, validation_data= validation_loader, epochs= 2)"
   ]
  },
  {
   "cell_type": "code",
   "execution_count": 12,
   "id": "d7c45428",
   "metadata": {
    "execution": {
     "iopub.execute_input": "2024-04-07T10:51:54.296529Z",
     "iopub.status.busy": "2024-04-07T10:51:54.296269Z",
     "iopub.status.idle": "2024-04-07T10:52:03.978488Z",
     "shell.execute_reply": "2024-04-07T10:52:03.977434Z"
    },
    "papermill": {
     "duration": 9.694132,
     "end_time": "2024-04-07T10:52:03.980929",
     "exception": false,
     "start_time": "2024-04-07T10:51:54.286797",
     "status": "completed"
    },
    "tags": []
   },
   "outputs": [
    {
     "name": "stdout",
     "output_type": "stream",
     "text": [
      "Test acc: 0.20837357640266418\n"
     ]
    }
   ],
   "source": [
    "#Test the model\n",
    "test_loader = CustomDataLoader('/kaggle/input/petfinder-pawpularity-score/train/', test_df, metadata_columns, target_column, 32, (256, 256))\n",
    "#Custom testing loop for the model\n",
    "test_acc_values= []\n",
    "file= open('testing_log.txt', 'w')\n",
    "# Define the loss function, optimizer, and metrics\n",
    "for i, X in enumerate(test_loader):\n",
    "    X_images= X[0][0]\n",
    "    X_meta= X[0][1]\n",
    "    y= X[1]\n",
    "    logits = model([X_images, X_meta], training=False)\n",
    "    #Round the values to nearest integer\n",
    "#     logits= tf.math.round(logits)\n",
    "    file.write(f\"Predicted values: {logits}\\n\")\n",
    "    file.write(f\"Actual values: {y}\\n\")\n",
    "    # Compute the loss value\n",
    "    loss_value = loss_fn(y, logits)\n",
    "    # Update training metric\n",
    "    train_metric.update_state(y, logits)\n",
    "# Display metrics at the end of each epoch.\n",
    "test_acc = train_metric.result()\n",
    "print(f\"Test acc: {test_acc}\")\n",
    "file.write(f\"Test acc: {test_acc}\\n\")\n",
    "file.close()"
   ]
  },
  {
   "cell_type": "code",
   "execution_count": 13,
   "id": "6e69f39b",
   "metadata": {
    "execution": {
     "iopub.execute_input": "2024-04-07T10:52:03.999392Z",
     "iopub.status.busy": "2024-04-07T10:52:03.999091Z",
     "iopub.status.idle": "2024-04-07T10:52:04.492913Z",
     "shell.execute_reply": "2024-04-07T10:52:04.491920Z"
    },
    "papermill": {
     "duration": 0.505934,
     "end_time": "2024-04-07T10:52:04.495584",
     "exception": false,
     "start_time": "2024-04-07T10:52:03.989650",
     "status": "completed"
    },
    "tags": []
   },
   "outputs": [],
   "source": [
    "#save the model\n",
    "model.save_weights('pawpularity_model.weights.h5')"
   ]
  }
 ],
 "metadata": {
  "kaggle": {
   "accelerator": "nvidiaTeslaT4",
   "dataSources": [
    {
     "databundleVersionId": 2684322,
     "sourceId": 25383,
     "sourceType": "competition"
    }
   ],
   "dockerImageVersionId": 30664,
   "isGpuEnabled": true,
   "isInternetEnabled": true,
   "language": "python",
   "sourceType": "notebook"
  },
  "kernelspec": {
   "display_name": "Python 3",
   "language": "python",
   "name": "python3"
  },
  "language_info": {
   "codemirror_mode": {
    "name": "ipython",
    "version": 3
   },
   "file_extension": ".py",
   "mimetype": "text/x-python",
   "name": "python",
   "nbconvert_exporter": "python",
   "pygments_lexer": "ipython3",
   "version": "3.10.13"
  },
  "papermill": {
   "default_parameters": {},
   "duration": 8676.799836,
   "end_time": "2024-04-07T10:52:07.899153",
   "environment_variables": {},
   "exception": null,
   "input_path": "__notebook__.ipynb",
   "output_path": "__notebook__.ipynb",
   "parameters": {},
   "start_time": "2024-04-07T08:27:31.099317",
   "version": "2.5.0"
  }
 },
 "nbformat": 4,
 "nbformat_minor": 5
}
