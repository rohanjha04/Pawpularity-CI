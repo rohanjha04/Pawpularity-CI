{
 "cells": [
  {
   "cell_type": "code",
   "execution_count": 1,
   "id": "ff873a65",
   "metadata": {
    "_cell_guid": "b1076dfc-b9ad-4769-8c92-a6c4dae69d19",
    "_uuid": "8f2839f25d086af736a60e9eeb907d3b93b6e0e5",
    "execution": {
     "iopub.execute_input": "2024-04-07T19:14:37.759300Z",
     "iopub.status.busy": "2024-04-07T19:14:37.758462Z",
     "iopub.status.idle": "2024-04-07T19:14:50.875439Z",
     "shell.execute_reply": "2024-04-07T19:14:50.874469Z"
    },
    "papermill": {
     "duration": 13.125903,
     "end_time": "2024-04-07T19:14:50.877692",
     "exception": false,
     "start_time": "2024-04-07T19:14:37.751789",
     "status": "completed"
    },
    "tags": []
   },
   "outputs": [
    {
     "name": "stderr",
     "output_type": "stream",
     "text": [
      "2024-04-07 19:14:39.620168: E external/local_xla/xla/stream_executor/cuda/cuda_dnn.cc:9261] Unable to register cuDNN factory: Attempting to register factory for plugin cuDNN when one has already been registered\n",
      "2024-04-07 19:14:39.620263: E external/local_xla/xla/stream_executor/cuda/cuda_fft.cc:607] Unable to register cuFFT factory: Attempting to register factory for plugin cuFFT when one has already been registered\n",
      "2024-04-07 19:14:39.773564: E external/local_xla/xla/stream_executor/cuda/cuda_blas.cc:1515] Unable to register cuBLAS factory: Attempting to register factory for plugin cuBLAS when one has already been registered\n"
     ]
    }
   ],
   "source": [
    "#import neccessary libraries\n",
    "import tensorflow as tf\n",
    "import numpy as np\n",
    "import pandas as pd\n",
    "import matplotlib.pyplot as plt\n",
    "import os\n",
    "import re"
   ]
  },
  {
   "cell_type": "code",
   "execution_count": 2,
   "id": "e6f149ce",
   "metadata": {
    "execution": {
     "iopub.execute_input": "2024-04-07T19:14:50.888835Z",
     "iopub.status.busy": "2024-04-07T19:14:50.888339Z",
     "iopub.status.idle": "2024-04-07T19:14:50.927705Z",
     "shell.execute_reply": "2024-04-07T19:14:50.926816Z"
    },
    "papermill": {
     "duration": 0.047014,
     "end_time": "2024-04-07T19:14:50.929733",
     "exception": false,
     "start_time": "2024-04-07T19:14:50.882719",
     "status": "completed"
    },
    "tags": []
   },
   "outputs": [],
   "source": [
    "train_df= pd.read_csv('/kaggle/input/petfinder-pawpularity-score/train.csv')\n",
    "metadata_columns= ['Subject Focus', 'Eyes', 'Face', 'Near', 'Action', 'Accessory', 'Group', 'Collage', 'Human', 'Occlusion', 'Info', 'Blur']\n",
    "target_column= 'Pawpularity'\n",
    "#Move last 500 images to test set\n",
    "test_df= train_df.iloc[-500:]\n",
    "#Delete last 500 images from train set\n",
    "train_df= train_df.iloc[:-500]\n",
    "\n",
    "#Now use last 500 images for validation\n",
    "validation_df= train_df.iloc[-500:]\n",
    "#Delete last 500 images from train set\n",
    "train_df= train_df.iloc[:-500]"
   ]
  },
  {
   "cell_type": "code",
   "execution_count": 3,
   "id": "b91c27a9",
   "metadata": {
    "execution": {
     "iopub.execute_input": "2024-04-07T19:14:50.940460Z",
     "iopub.status.busy": "2024-04-07T19:14:50.939959Z",
     "iopub.status.idle": "2024-04-07T19:14:50.946462Z",
     "shell.execute_reply": "2024-04-07T19:14:50.945614Z"
    },
    "papermill": {
     "duration": 0.01391,
     "end_time": "2024-04-07T19:14:50.948330",
     "exception": false,
     "start_time": "2024-04-07T19:14:50.934420",
     "status": "completed"
    },
    "tags": []
   },
   "outputs": [
    {
     "data": {
      "text/plain": [
       "(8912, 500, 500)"
      ]
     },
     "execution_count": 3,
     "metadata": {},
     "output_type": "execute_result"
    }
   ],
   "source": [
    "len(train_df), len(validation_df), len(test_df)"
   ]
  },
  {
   "cell_type": "code",
   "execution_count": 4,
   "id": "a387e420",
   "metadata": {
    "execution": {
     "iopub.execute_input": "2024-04-07T19:14:50.959008Z",
     "iopub.status.busy": "2024-04-07T19:14:50.958546Z",
     "iopub.status.idle": "2024-04-07T19:14:50.971453Z",
     "shell.execute_reply": "2024-04-07T19:14:50.970729Z"
    },
    "papermill": {
     "duration": 0.020308,
     "end_time": "2024-04-07T19:14:50.973333",
     "exception": false,
     "start_time": "2024-04-07T19:14:50.953025",
     "status": "completed"
    },
    "tags": []
   },
   "outputs": [],
   "source": [
    "#Write custom dataloader in python to load and shuffle the images and meta data\n",
    "class CustomDataLoader(tf.keras.utils.Sequence):\n",
    "    def __init__(self, root_dir, df, metadata_columns, target_column, batch_size, image_size, shuffle=True):\n",
    "        self.root_dir = root_dir\n",
    "        self.df = df\n",
    "        self.metadata_columns = metadata_columns\n",
    "        self.target_column = target_column\n",
    "        self.batch_size = batch_size\n",
    "        self.image_size = image_size\n",
    "        self.shuffle = shuffle\n",
    "        self.indexes = np.arange(len(self.df))\n",
    "        if self.shuffle:\n",
    "            np.random.shuffle(self.indexes)\n",
    "    \n",
    "    def __len__(self):\n",
    "        return len(self.df) // self.batch_size #return the number of batches\n",
    "    \n",
    "    def on_epoch_end(self):\n",
    "        if self.shuffle:\n",
    "            np.random.shuffle(self.indexes) #shuffle the indexes after each epoch\n",
    "    \n",
    "    def __data_generation(self, indexes):\n",
    "        X= np.empty((self.batch_size, self.image_size[0], self.image_size[1], 3))\n",
    "        X_meta= np.empty((self.batch_size, len(self.metadata_columns)))\n",
    "        # X_combined= []\n",
    "        y= np.empty((self.batch_size, 1))\n",
    "        for i, index in enumerate(indexes):\n",
    "            image_path = self.root_dir + self.df.iloc[index]['Id'] + '.jpg'\n",
    "            image = tf.io.read_file(image_path)\n",
    "            image = tf.image.decode_jpeg(image, channels=3)\n",
    "            image = tf.image.resize(image, self.image_size)\n",
    "            image = image / 255.0 #normalize the image\n",
    "            image = tf.cast(image, tf.float16)\n",
    "            image = tf.image.random_flip_left_right(image) #random flip left right\n",
    "            X[i]= image.numpy() #convert tensor to numpy array\n",
    "            X_meta[i]= self.df.iloc[index][self.metadata_columns].values\n",
    "            y[i]= self.df.iloc[index][self.target_column]/100\n",
    "            #Apply log transformation to address skewness\n",
    "#             y[i]= np.log1p(y[i])\n",
    "#             y[i]= np.exp(y[i])\n",
    "        return X, X_meta, y\n",
    "    \n",
    "    def __getitem__(self, index):\n",
    "        indexes = self.indexes[index * self.batch_size : (index + 1) * self.batch_size]\n",
    "        X, X_meta, y = self.__data_generation(indexes)\n",
    "        y= tf.convert_to_tensor(y, dtype=tf.float32)\n",
    "        return [X,X_meta], y"
   ]
  },
  {
   "cell_type": "code",
   "execution_count": 5,
   "id": "3a52ad97",
   "metadata": {
    "execution": {
     "iopub.execute_input": "2024-04-07T19:14:50.983537Z",
     "iopub.status.busy": "2024-04-07T19:14:50.983296Z",
     "iopub.status.idle": "2024-04-07T19:14:56.217256Z",
     "shell.execute_reply": "2024-04-07T19:14:56.216494Z"
    },
    "papermill": {
     "duration": 5.241532,
     "end_time": "2024-04-07T19:14:56.219497",
     "exception": false,
     "start_time": "2024-04-07T19:14:50.977965",
     "status": "completed"
    },
    "tags": []
   },
   "outputs": [
    {
     "name": "stdout",
     "output_type": "stream",
     "text": [
      "Downloading data from https://storage.googleapis.com/tensorflow/keras-applications/resnet/resnet50_weights_tf_dim_ordering_tf_kernels_notop.h5\n",
      "\u001b[1m94765736/94765736\u001b[0m \u001b[32m━━━━━━━━━━━━━━━━━━━━\u001b[0m\u001b[37m\u001b[0m \u001b[1m3s\u001b[0m 0us/step\n"
     ]
    }
   ],
   "source": [
    "#Define the model with resnet50 to extract features from images\n",
    "input_image = tf.keras.layers.Input(shape=(256, 256, 3))\n",
    "#convert image to greyscale\n",
    "# input_image = tf.keras.layers.Lambda(lambda x: tf.image.rgb_to_grayscale(x))(input_image)\n",
    "input_metadata = tf.keras.layers.Input(shape=(12,))\n",
    "# input_image = tf.keras.layers.RandomRotation(0.15)(input_image)\n",
    "base_model = tf.keras.applications.ResNet50(include_top=False, input_tensor=input_image,\n",
    "                                            weights='imagenet')\n",
    "# base_model= tf.keras.applications.SwinTransformer(include_top=False, input_tensor=input_image,\n",
    "#                                             weights='imagenet')\n",
    "for layer in base_model.layers:\n",
    "    layer.trainable= False\n",
    "x = base_model.output\n",
    "x2= tf.keras.layers.Flatten()(x)\n",
    "concat_layers = tf.keras.layers.Concatenate()([x2, input_metadata])\n",
    "l2= tf.keras.layers.Dense(512, activation='relu')(concat_layers)\n",
    "b1= tf.keras.layers.BatchNormalization()(l2)\n",
    "l3= tf.keras.layers.Dense(256, activation='relu')(b1)\n",
    "b2= tf.keras.layers.BatchNormalization()(l3)\n",
    "# l4= tf.keras.layers.Dense(128, activation='relu')(b2)\n",
    "# b3= tf.keras.layers.BatchNormalization()(l4)\n",
    "l5= tf.keras.layers.Dense(64, activation='relu')(b2)\n",
    "b4= tf.keras.layers.BatchNormalization()(l5)\n",
    "l6= tf.keras.layers.Dense(32, activation='relu')(b4)\n",
    "b5= tf.keras.layers.BatchNormalization()(l6)\n",
    "l7= tf.keras.layers.Dense(16, activation='relu')(b5)\n",
    "b6= tf.keras.layers.BatchNormalization()(l7)\n",
    "output_1 = tf.keras.layers.Dense(1, activation='sigmoid')(b6)\n",
    "#Output values between 0-100\n",
    "# output= output_1 * tf.constant([100.0], dtype=tf.float64)\n",
    "\n",
    "model = tf.keras.models.Model(inputs=[input_image,input_metadata], outputs=output_1)"
   ]
  },
  {
   "cell_type": "code",
   "execution_count": 6,
   "id": "2ac28663",
   "metadata": {
    "execution": {
     "iopub.execute_input": "2024-04-07T19:14:56.238834Z",
     "iopub.status.busy": "2024-04-07T19:14:56.238549Z",
     "iopub.status.idle": "2024-04-07T19:14:56.242227Z",
     "shell.execute_reply": "2024-04-07T19:14:56.241380Z"
    },
    "papermill": {
     "duration": 0.015487,
     "end_time": "2024-04-07T19:14:56.243986",
     "exception": false,
     "start_time": "2024-04-07T19:14:56.228499",
     "status": "completed"
    },
    "tags": []
   },
   "outputs": [],
   "source": [
    "# model.summary()"
   ]
  },
  {
   "cell_type": "code",
   "execution_count": 7,
   "id": "4c6e071e",
   "metadata": {
    "execution": {
     "iopub.execute_input": "2024-04-07T19:14:56.262568Z",
     "iopub.status.busy": "2024-04-07T19:14:56.261937Z",
     "iopub.status.idle": "2024-04-07T19:14:56.266132Z",
     "shell.execute_reply": "2024-04-07T19:14:56.265323Z"
    },
    "papermill": {
     "duration": 0.015202,
     "end_time": "2024-04-07T19:14:56.267863",
     "exception": false,
     "start_time": "2024-04-07T19:14:56.252661",
     "status": "completed"
    },
    "tags": []
   },
   "outputs": [],
   "source": [
    "#Set dynamic learning rate to prevent overfitting\n",
    "initial_learning_rate = 0.01\n",
    "lr_schedule = tf.keras.optimizers.schedules.ExponentialDecay(\n",
    "    initial_learning_rate, decay_steps=1000, decay_rate=0.96, staircase=True\n",
    ")"
   ]
  },
  {
   "cell_type": "code",
   "execution_count": 8,
   "id": "97b31ce7",
   "metadata": {
    "execution": {
     "iopub.execute_input": "2024-04-07T19:14:56.286164Z",
     "iopub.status.busy": "2024-04-07T19:14:56.285640Z",
     "iopub.status.idle": "2024-04-07T19:14:56.299145Z",
     "shell.execute_reply": "2024-04-07T19:14:56.298476Z"
    },
    "papermill": {
     "duration": 0.02455,
     "end_time": "2024-04-07T19:14:56.300960",
     "exception": false,
     "start_time": "2024-04-07T19:14:56.276410",
     "status": "completed"
    },
    "tags": []
   },
   "outputs": [],
   "source": [
    "model.compile(optimizer=tf.keras.optimizers.Adam(learning_rate=lr_schedule), \n",
    "              loss= tf.keras.losses.MeanSquaredError(), \n",
    "              metrics=[tf.keras.metrics.RootMeanSquaredError()])"
   ]
  },
  {
   "cell_type": "code",
   "execution_count": 9,
   "id": "bfc8eab1",
   "metadata": {
    "execution": {
     "iopub.execute_input": "2024-04-07T19:14:56.319030Z",
     "iopub.status.busy": "2024-04-07T19:14:56.318588Z",
     "iopub.status.idle": "2024-04-07T19:14:56.322991Z",
     "shell.execute_reply": "2024-04-07T19:14:56.322109Z"
    },
    "papermill": {
     "duration": 0.015447,
     "end_time": "2024-04-07T19:14:56.324895",
     "exception": false,
     "start_time": "2024-04-07T19:14:56.309448",
     "status": "completed"
    },
    "tags": []
   },
   "outputs": [
    {
     "name": "stdout",
     "output_type": "stream",
     "text": [
      "[LogicalDevice(name='/device:GPU:0', device_type='GPU'), LogicalDevice(name='/device:GPU:1', device_type='GPU')]\n"
     ]
    }
   ],
   "source": [
    "print(tf.config.list_logical_devices('GPU'))"
   ]
  },
  {
   "cell_type": "code",
   "execution_count": 10,
   "id": "7ab791fe",
   "metadata": {
    "execution": {
     "iopub.execute_input": "2024-04-07T19:14:56.343389Z",
     "iopub.status.busy": "2024-04-07T19:14:56.342657Z",
     "iopub.status.idle": "2024-04-07T19:14:56.347275Z",
     "shell.execute_reply": "2024-04-07T19:14:56.346433Z"
    },
    "papermill": {
     "duration": 0.015736,
     "end_time": "2024-04-07T19:14:56.349213",
     "exception": false,
     "start_time": "2024-04-07T19:14:56.333477",
     "status": "completed"
    },
    "tags": []
   },
   "outputs": [],
   "source": [
    "def custom_loss(y1, y2):\n",
    "    error= (np.square(np.exp(5*y2)-np.exp(5*y1)))/1500\n",
    "    return tf.convert_to_tensor(error, dtype= tf.float32)"
   ]
  },
  {
   "cell_type": "code",
   "execution_count": 11,
   "id": "6bd3cd56",
   "metadata": {
    "execution": {
     "iopub.execute_input": "2024-04-07T19:14:56.367743Z",
     "iopub.status.busy": "2024-04-07T19:14:56.367243Z",
     "iopub.status.idle": "2024-04-07T23:24:40.757647Z",
     "shell.execute_reply": "2024-04-07T23:24:40.756746Z"
    },
    "papermill": {
     "duration": 14984.401977,
     "end_time": "2024-04-07T23:24:40.759760",
     "exception": false,
     "start_time": "2024-04-07T19:14:56.357783",
     "status": "completed"
    },
    "tags": []
   },
   "outputs": [
    {
     "name": "stdout",
     "output_type": "stream",
     "text": [
      "Start of epoch 0\n",
      "Training acc over epoch: 0.2816239595413208\n",
      "Validation acc: 0.4820172190666199\n",
      "Start of epoch 1\n",
      "Training acc over epoch: 0.27807170152664185\n",
      "Validation acc: 0.40702563524246216\n",
      "Start of epoch 2\n",
      "Training acc over epoch: 0.276493638753891\n",
      "Validation acc: 0.3616776764392853\n",
      "Start of epoch 3\n",
      "Training acc over epoch: 0.27519261837005615\n",
      "Validation acc: 0.346096396446228\n",
      "Start of epoch 4\n",
      "Training acc over epoch: 0.27419382333755493\n",
      "Validation acc: 0.3264884352684021\n",
      "Start of epoch 5\n",
      "Training acc over epoch: 0.2730253040790558\n",
      "Validation acc: 0.31426718831062317\n",
      "Start of epoch 6\n",
      "Training acc over epoch: 0.2721053957939148\n",
      "Validation acc: 0.3032604157924652\n",
      "Start of epoch 7\n",
      "Training acc over epoch: 0.27117279171943665\n",
      "Validation acc: 0.29379802942276\n",
      "Start of epoch 8\n",
      "Training acc over epoch: 0.27017563581466675\n",
      "Validation acc: 0.288615882396698\n",
      "Start of epoch 9\n",
      "Training acc over epoch: 0.2690430283546448\n",
      "Validation acc: 0.2880859971046448\n",
      "Start of epoch 10\n",
      "Training acc over epoch: 0.26770147681236267\n",
      "Validation acc: 0.2820909023284912\n",
      "Start of epoch 11\n",
      "Training acc over epoch: 0.26655638217926025\n",
      "Validation acc: 0.2828264832496643\n",
      "Start of epoch 12\n",
      "Training acc over epoch: 0.2654508650302887\n",
      "Validation acc: 0.2818335294723511\n",
      "Start of epoch 13\n",
      "Training acc over epoch: 0.26460742950439453\n",
      "Validation acc: 0.2813514471054077\n",
      "Start of epoch 14\n",
      "Training acc over epoch: 0.26351821422576904\n",
      "Validation acc: 0.3210878074169159\n",
      "Start of epoch 15\n",
      "Training acc over epoch: 0.2626792788505554\n",
      "Validation acc: 0.31587672233581543\n",
      "Start of epoch 16\n",
      "Training acc over epoch: 0.26155462861061096\n",
      "Validation acc: 0.3122253715991974\n",
      "Start of epoch 17\n",
      "Training acc over epoch: 0.26041463017463684\n",
      "Validation acc: 0.30731549859046936\n",
      "Start of epoch 18\n",
      "Training acc over epoch: 0.2595793604850769\n",
      "Validation acc: 0.3304017186164856\n",
      "Start of epoch 19\n",
      "Training acc over epoch: 0.25977930426597595\n",
      "Validation acc: 0.32630419731140137\n",
      "Start of epoch 20\n",
      "Training acc over epoch: 0.25901681184768677\n",
      "Validation acc: 0.3232244551181793\n",
      "Start of epoch 21\n",
      "Training acc over epoch: 0.25802910327911377\n",
      "Validation acc: 0.31873536109924316\n",
      "Start of epoch 22\n",
      "Training acc over epoch: 0.25704333186149597\n",
      "Validation acc: 0.3149125277996063\n",
      "Start of epoch 23\n",
      "Training acc over epoch: 0.2560324966907501\n",
      "Validation acc: 0.3207102417945862\n",
      "Start of epoch 24\n",
      "Training acc over epoch: 0.25504541397094727\n",
      "Validation acc: 0.3325827419757843\n",
      "Start of epoch 25\n",
      "Training acc over epoch: 0.25393080711364746\n",
      "Validation acc: 0.3398962914943695\n",
      "Start of epoch 26\n",
      "Training acc over epoch: 0.2527819275856018\n",
      "Validation acc: 0.3467404842376709\n",
      "Start of epoch 27\n",
      "Training acc over epoch: 0.25187692046165466\n",
      "Validation acc: 0.34525546431541443\n",
      "Start of epoch 28\n",
      "Training acc over epoch: 0.25081804394721985\n",
      "Validation acc: 0.3560062050819397\n",
      "Start of epoch 29\n",
      "Training acc over epoch: 0.24977634847164154\n",
      "Validation acc: 0.36461329460144043\n",
      "Start of epoch 30\n",
      "Training acc over epoch: 0.24869443476200104\n",
      "Validation acc: 0.37398332357406616\n",
      "Start of epoch 31\n",
      "Training acc over epoch: 0.24770812690258026\n",
      "Validation acc: 0.3699260652065277\n",
      "Start of epoch 32\n",
      "Training acc over epoch: 0.24667483568191528\n",
      "Validation acc: 0.36995235085487366\n",
      "Start of epoch 33\n",
      "Training acc over epoch: 0.24566641449928284\n",
      "Validation acc: 0.3694601356983185\n",
      "Start of epoch 34\n",
      "Training acc over epoch: 0.24470679461956024\n",
      "Validation acc: 0.371735543012619\n",
      "Start of epoch 35\n",
      "Training acc over epoch: 0.24372245371341705\n",
      "Validation acc: 0.3778035044670105\n",
      "Start of epoch 36\n",
      "Training acc over epoch: 0.24267564713954926\n",
      "Validation acc: 0.3845663368701935\n",
      "Start of epoch 37\n",
      "Training acc over epoch: 0.24163225293159485\n",
      "Validation acc: 0.3860257863998413\n",
      "Start of epoch 38\n",
      "Training acc over epoch: 0.24066361784934998\n",
      "Validation acc: 0.392896831035614\n",
      "Start of epoch 39\n",
      "Training acc over epoch: 0.23973168432712555\n",
      "Validation acc: 0.3997192084789276\n",
      "Start of epoch 40\n",
      "Training acc over epoch: 0.23876570165157318\n",
      "Validation acc: 0.407392680644989\n",
      "Start of epoch 41\n",
      "Training acc over epoch: 0.23780284821987152\n",
      "Validation acc: 0.41326579451560974\n",
      "Start of epoch 42\n",
      "Training acc over epoch: 0.23685742914676666\n",
      "Validation acc: 0.4107939302921295\n",
      "Start of epoch 43\n",
      "Training acc over epoch: 0.23603342473506927\n",
      "Validation acc: 0.41263073682785034\n",
      "Start of epoch 44\n",
      "Training acc over epoch: 0.2351447343826294\n",
      "Validation acc: 0.41013196110725403\n",
      "Start of epoch 45\n",
      "Training acc over epoch: 0.2341882288455963\n",
      "Validation acc: 0.4068750739097595\n",
      "Start of epoch 46\n",
      "Training acc over epoch: 0.2332465499639511\n",
      "Validation acc: 0.4042980372905731\n",
      "Start of epoch 47\n",
      "Training acc over epoch: 0.23241190612316132\n",
      "Validation acc: 0.4015456736087799\n",
      "Start of epoch 48\n",
      "Training acc over epoch: 0.23150433599948883\n",
      "Validation acc: 0.4045867621898651\n",
      "Start of epoch 49\n",
      "Training acc over epoch: 0.23063968122005463\n",
      "Validation acc: 0.4100109934806824\n",
      "Start of epoch 50\n",
      "Training acc over epoch: 0.22975903749465942\n",
      "Validation acc: 0.408895879983902\n",
      "Start of epoch 51\n",
      "Training acc over epoch: 0.22896961867809296\n",
      "Validation acc: 0.41001269221305847\n",
      "Start of epoch 52\n",
      "Training acc over epoch: 0.22810812294483185\n",
      "Validation acc: 0.4136463701725006\n",
      "Start of epoch 53\n",
      "Training acc over epoch: 0.2272748500108719\n",
      "Validation acc: 0.41605284810066223\n",
      "Start of epoch 54\n",
      "Training acc over epoch: 0.2264290153980255\n",
      "Validation acc: 0.4136144518852234\n",
      "Start of epoch 55\n",
      "Training acc over epoch: 0.225612610578537\n",
      "Validation acc: 0.41548973321914673\n",
      "Start of epoch 56\n",
      "Training acc over epoch: 0.22479654848575592\n",
      "Validation acc: 0.41485387086868286\n",
      "Start of epoch 57\n",
      "Training acc over epoch: 0.22400270402431488\n",
      "Validation acc: 0.41783517599105835\n",
      "Start of epoch 58\n",
      "Training acc over epoch: 0.22332170605659485\n",
      "Validation acc: 0.4184780716896057\n",
      "Start of epoch 59\n",
      "Training acc over epoch: 0.22258515655994415\n",
      "Validation acc: 0.41583573818206787\n"
     ]
    }
   ],
   "source": [
    "#Train the model\n",
    "train_loader = CustomDataLoader('/kaggle/input/petfinder-pawpularity-score/train/', train_df, metadata_columns, target_column, 32, (256, 256))\n",
    "validation_loader = CustomDataLoader('/kaggle/input/petfinder-pawpularity-score/train/', test_df, metadata_columns, target_column, 32, (256, 256))\n",
    "\n",
    "#Custom training loop for the model\n",
    "epochs= 60\n",
    "train_acc_values= []\n",
    "val_acc_values= []\n",
    "file= open('training_log.txt', 'w')\n",
    "# Define the loss function, optimizer, and metrics\n",
    "loss_fn = tf.keras.losses.MeanSquaredError()\n",
    "optimizer=tf.keras.optimizers.Adam(learning_rate=lr_schedule)\n",
    "train_metric = tf.keras.metrics.RootMeanSquaredError()\n",
    "val_metric = tf.keras.metrics.RootMeanSquaredError()\n",
    "\n",
    "# Loop over the epochs\n",
    "for epoch in range(epochs):\n",
    "    print(f\"Start of epoch {epoch}\")\n",
    "    file.write(f\"Start of epoch {epoch}\\n\")\n",
    "    #Iterate over the batches of dataset\n",
    "    for i, X in enumerate(train_loader):\n",
    "        X_images= X[0][0]\n",
    "        X_meta= X[0][1]\n",
    "        y= X[1]\n",
    "        with tf.GradientTape() as tape:\n",
    "            # Forward pass\n",
    "            logits = model([X_images, X_meta], training=True)\n",
    "            sample_weights= tf.exp(y*3)\n",
    "            #Sample weights\n",
    "#             sample_weights= tf.where(y>np.exp(0.50), 10, 1)\n",
    "#             sample_weights= tf.where(y>0.5, 10, 1)\n",
    "#             sample_weights= np.array()\n",
    "            # Compute the loss value\n",
    "            loss_value = loss_fn(y, logits, sample_weight= sample_weights)\n",
    "#             loss_value= custom_loss(y, logits)\n",
    "        # Backward pass\n",
    "        grads = tape.gradient(loss_value, model.trainable_weights)\n",
    "        # Update the weights\n",
    "        optimizer.apply_gradients(zip(grads, model.trainable_weights))\n",
    "        # Update training metric\n",
    "        train_metric.update_state(y, logits)\n",
    "    # Display metrics at the end of each epoch.\n",
    "    train_acc = train_metric.result()\n",
    "    print(f\"Training acc over epoch: {train_acc}\")\n",
    "    file.write(f\"Training acc over epoch: {train_acc}\\n\")\n",
    "    # Reset training metrics at the end of each epoch\n",
    "#     train_metric.reset_states()\n",
    "    # Run a validation loop at the end of each epoch.\n",
    "    for i, X in enumerate(validation_loader):\n",
    "        X_images= X[0][0]\n",
    "        X_meta= X[0][1]\n",
    "        y= X[1]\n",
    "        val_logits = model([X_images, X_meta], training=False)\n",
    "        # Update val metrics\n",
    "        val_metric.update_state(y, val_logits)\n",
    "    val_acc = val_metric.result()\n",
    "#     val_metric.reset_states()\n",
    "    print(f\"Validation acc: {val_acc}\")\n",
    "    file.write(f\"Validation acc: {val_acc}\\n\")\n",
    "    \n",
    "    #Store values for plotting\n",
    "    train_acc_values.append(train_acc)\n",
    "    val_acc_values.append(val_acc)\n",
    "file.close()   "
   ]
  },
  {
   "cell_type": "code",
   "execution_count": 12,
   "id": "8e0c30b4",
   "metadata": {
    "execution": {
     "iopub.execute_input": "2024-04-07T23:24:40.797770Z",
     "iopub.status.busy": "2024-04-07T23:24:40.797383Z",
     "iopub.status.idle": "2024-04-07T23:24:40.801510Z",
     "shell.execute_reply": "2024-04-07T23:24:40.800644Z"
    },
    "papermill": {
     "duration": 0.025269,
     "end_time": "2024-04-07T23:24:40.803529",
     "exception": false,
     "start_time": "2024-04-07T23:24:40.778260",
     "status": "completed"
    },
    "tags": []
   },
   "outputs": [],
   "source": [
    "# train_loader = CustomDataLoader('/kaggle/input/petfinder-pawpularity-score/train/', train_df, metadata_columns, target_column, 32, (100, 100))\n",
    "# validation_loader = CustomDataLoader('/kaggle/input/petfinder-pawpularity-score/train/', test_df, metadata_columns, target_column, 32, (100, 100))\n",
    "# history= model.fit(train_loader, validation_data= validation_loader, epochs= 2)"
   ]
  },
  {
   "cell_type": "code",
   "execution_count": 13,
   "id": "6d502772",
   "metadata": {
    "execution": {
     "iopub.execute_input": "2024-04-07T23:24:40.840662Z",
     "iopub.status.busy": "2024-04-07T23:24:40.840368Z",
     "iopub.status.idle": "2024-04-07T23:24:48.753548Z",
     "shell.execute_reply": "2024-04-07T23:24:48.752584Z"
    },
    "papermill": {
     "duration": 7.934239,
     "end_time": "2024-04-07T23:24:48.755761",
     "exception": false,
     "start_time": "2024-04-07T23:24:40.821522",
     "status": "completed"
    },
    "tags": []
   },
   "outputs": [
    {
     "name": "stdout",
     "output_type": "stream",
     "text": [
      "Test acc: 0.22257429361343384\n"
     ]
    }
   ],
   "source": [
    "#Test the model\n",
    "test_loader = CustomDataLoader('/kaggle/input/petfinder-pawpularity-score/train/', test_df, metadata_columns, target_column, 32, (256, 256))\n",
    "#Custom testing loop for the model\n",
    "test_acc_values= []\n",
    "file= open('testing_log.txt', 'w')\n",
    "# Define the loss function, optimizer, and metrics\n",
    "for i, X in enumerate(test_loader):\n",
    "    X_images= X[0][0]\n",
    "    X_meta= X[0][1]\n",
    "    y= X[1]\n",
    "    logits = model([X_images, X_meta], training=False)\n",
    "#     logits= np.log(logits)\n",
    "#     y= np.log(y)\n",
    "#     logits= np.expm1(logits)\n",
    "    #Round the values to nearest integer\n",
    "#     logits= tf.math.round(logits)\n",
    "    file.write(f\"Predicted values: {logits}\\n\")\n",
    "    file.write(f\"Actual values: {y}\\n\")\n",
    "    # Compute the loss value\n",
    "    loss_value = loss_fn(y, logits)\n",
    "    # Update training metric\n",
    "    train_metric.update_state(y, logits)\n",
    "# Display metrics at the end of each epoch.\n",
    "test_acc = train_metric.result()\n",
    "print(f\"Test acc: {test_acc}\")\n",
    "file.write(f\"Test acc: {test_acc}\\n\")\n",
    "file.close()"
   ]
  },
  {
   "cell_type": "code",
   "execution_count": 14,
   "id": "9a3f0028",
   "metadata": {
    "execution": {
     "iopub.execute_input": "2024-04-07T23:24:48.794464Z",
     "iopub.status.busy": "2024-04-07T23:24:48.793948Z",
     "iopub.status.idle": "2024-04-07T23:24:49.740705Z",
     "shell.execute_reply": "2024-04-07T23:24:49.739878Z"
    },
    "papermill": {
     "duration": 0.968811,
     "end_time": "2024-04-07T23:24:49.743270",
     "exception": false,
     "start_time": "2024-04-07T23:24:48.774459",
     "status": "completed"
    },
    "tags": []
   },
   "outputs": [],
   "source": [
    "#save the model\n",
    "model.save_weights('pawpularity_model.weights.h5')"
   ]
  }
 ],
 "metadata": {
  "kaggle": {
   "accelerator": "nvidiaTeslaT4",
   "dataSources": [
    {
     "databundleVersionId": 2684322,
     "sourceId": 25383,
     "sourceType": "competition"
    }
   ],
   "dockerImageVersionId": 30664,
   "isGpuEnabled": true,
   "isInternetEnabled": true,
   "language": "python",
   "sourceType": "notebook"
  },
  "kernelspec": {
   "display_name": "Python 3",
   "language": "python",
   "name": "python3"
  },
  "language_info": {
   "codemirror_mode": {
    "name": "ipython",
    "version": 3
   },
   "file_extension": ".py",
   "mimetype": "text/x-python",
   "name": "python",
   "nbconvert_exporter": "python",
   "pygments_lexer": "ipython3",
   "version": "3.10.13"
  },
  "papermill": {
   "default_parameters": {},
   "duration": 15017.300835,
   "end_time": "2024-04-07T23:24:52.235859",
   "environment_variables": {},
   "exception": null,
   "input_path": "__notebook__.ipynb",
   "output_path": "__notebook__.ipynb",
   "parameters": {},
   "start_time": "2024-04-07T19:14:34.935024",
   "version": "2.5.0"
  }
 },
 "nbformat": 4,
 "nbformat_minor": 5
}
