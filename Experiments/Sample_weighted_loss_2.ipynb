{
 "cells": [
  {
   "cell_type": "code",
   "execution_count": 1,
   "id": "14630534",
   "metadata": {
    "_cell_guid": "b1076dfc-b9ad-4769-8c92-a6c4dae69d19",
    "_uuid": "8f2839f25d086af736a60e9eeb907d3b93b6e0e5",
    "execution": {
     "iopub.execute_input": "2024-04-08T18:13:09.293612Z",
     "iopub.status.busy": "2024-04-08T18:13:09.293350Z",
     "iopub.status.idle": "2024-04-08T18:13:23.332421Z",
     "shell.execute_reply": "2024-04-08T18:13:23.331444Z"
    },
    "papermill": {
     "duration": 14.047374,
     "end_time": "2024-04-08T18:13:23.334822",
     "exception": false,
     "start_time": "2024-04-08T18:13:09.287448",
     "status": "completed"
    },
    "tags": []
   },
   "outputs": [
    {
     "name": "stderr",
     "output_type": "stream",
     "text": [
      "2024-04-08 18:13:11.449646: E external/local_xla/xla/stream_executor/cuda/cuda_dnn.cc:9261] Unable to register cuDNN factory: Attempting to register factory for plugin cuDNN when one has already been registered\n",
      "2024-04-08 18:13:11.449738: E external/local_xla/xla/stream_executor/cuda/cuda_fft.cc:607] Unable to register cuFFT factory: Attempting to register factory for plugin cuFFT when one has already been registered\n",
      "2024-04-08 18:13:11.604299: E external/local_xla/xla/stream_executor/cuda/cuda_blas.cc:1515] Unable to register cuBLAS factory: Attempting to register factory for plugin cuBLAS when one has already been registered\n"
     ]
    }
   ],
   "source": [
    "#import neccessary libraries\n",
    "import tensorflow as tf\n",
    "import numpy as np\n",
    "import pandas as pd\n",
    "import matplotlib.pyplot as plt\n",
    "import os\n",
    "import re"
   ]
  },
  {
   "cell_type": "code",
   "execution_count": 2,
   "id": "047ebda9",
   "metadata": {
    "execution": {
     "iopub.execute_input": "2024-04-08T18:13:23.358196Z",
     "iopub.status.busy": "2024-04-08T18:13:23.357646Z",
     "iopub.status.idle": "2024-04-08T18:13:23.396085Z",
     "shell.execute_reply": "2024-04-08T18:13:23.395311Z"
    },
    "papermill": {
     "duration": 0.046452,
     "end_time": "2024-04-08T18:13:23.398165",
     "exception": false,
     "start_time": "2024-04-08T18:13:23.351713",
     "status": "completed"
    },
    "tags": []
   },
   "outputs": [],
   "source": [
    "train_df= pd.read_csv('/kaggle/input/petfinder-pawpularity-score/train.csv')\n",
    "metadata_columns= ['Subject Focus', 'Eyes', 'Face', 'Near', 'Action', 'Accessory', 'Group', 'Collage', 'Human', 'Occlusion', 'Info', 'Blur']\n",
    "target_column= 'Pawpularity'\n",
    "#Move last 500 images to test set\n",
    "test_df= train_df.iloc[-500:]\n",
    "#Delete last 500 images from train set\n",
    "train_df= train_df.iloc[:-500]\n",
    "\n",
    "#Now use last 500 images for validation\n",
    "validation_df= train_df.iloc[-500:]\n",
    "#Delete last 500 images from train set\n",
    "train_df= train_df.iloc[:-500]"
   ]
  },
  {
   "cell_type": "code",
   "execution_count": 3,
   "id": "787f6b22",
   "metadata": {
    "execution": {
     "iopub.execute_input": "2024-04-08T18:13:23.409237Z",
     "iopub.status.busy": "2024-04-08T18:13:23.408922Z",
     "iopub.status.idle": "2024-04-08T18:13:23.415921Z",
     "shell.execute_reply": "2024-04-08T18:13:23.415060Z"
    },
    "papermill": {
     "duration": 0.014514,
     "end_time": "2024-04-08T18:13:23.417764",
     "exception": false,
     "start_time": "2024-04-08T18:13:23.403250",
     "status": "completed"
    },
    "tags": []
   },
   "outputs": [
    {
     "data": {
      "text/plain": [
       "(8912, 500, 500)"
      ]
     },
     "execution_count": 3,
     "metadata": {},
     "output_type": "execute_result"
    }
   ],
   "source": [
    "len(train_df), len(validation_df), len(test_df)"
   ]
  },
  {
   "cell_type": "code",
   "execution_count": 4,
   "id": "0a93bd62",
   "metadata": {
    "execution": {
     "iopub.execute_input": "2024-04-08T18:13:23.428606Z",
     "iopub.status.busy": "2024-04-08T18:13:23.428361Z",
     "iopub.status.idle": "2024-04-08T18:13:23.442407Z",
     "shell.execute_reply": "2024-04-08T18:13:23.441557Z"
    },
    "papermill": {
     "duration": 0.021735,
     "end_time": "2024-04-08T18:13:23.444293",
     "exception": false,
     "start_time": "2024-04-08T18:13:23.422558",
     "status": "completed"
    },
    "tags": []
   },
   "outputs": [],
   "source": [
    "#Write custom dataloader in python to load and shuffle the images and meta data\n",
    "class CustomDataLoader(tf.keras.utils.Sequence):\n",
    "    def __init__(self, root_dir, df, metadata_columns, target_column, batch_size, image_size, shuffle=True):\n",
    "        self.root_dir = root_dir\n",
    "        self.df = df\n",
    "        self.metadata_columns = metadata_columns\n",
    "        self.target_column = target_column\n",
    "        self.batch_size = batch_size\n",
    "        self.image_size = image_size\n",
    "        self.shuffle = shuffle\n",
    "        self.indexes = np.arange(len(self.df))\n",
    "        if self.shuffle:\n",
    "            np.random.shuffle(self.indexes)\n",
    "    \n",
    "    def __len__(self):\n",
    "        return len(self.df) // self.batch_size #return the number of batches\n",
    "    \n",
    "    def on_epoch_end(self):\n",
    "        if self.shuffle:\n",
    "            np.random.shuffle(self.indexes) #shuffle the indexes after each epoch\n",
    "    \n",
    "    def __data_generation(self, indexes):\n",
    "        X= np.empty((self.batch_size, self.image_size[0], self.image_size[1], 3))\n",
    "        X_meta= np.empty((self.batch_size, len(self.metadata_columns)))\n",
    "        # X_combined= []\n",
    "        y= np.empty((self.batch_size, 1))\n",
    "        for i, index in enumerate(indexes):\n",
    "            image_path = self.root_dir + self.df.iloc[index]['Id'] + '.jpg'\n",
    "            image = tf.io.read_file(image_path)\n",
    "            image = tf.image.decode_jpeg(image, channels=3)\n",
    "            image = tf.image.resize(image, self.image_size)\n",
    "            image = image / 255.0 #normalize the image\n",
    "            image = tf.cast(image, tf.float16)\n",
    "            image = tf.image.random_flip_left_right(image) #random flip left right\n",
    "            X[i]= image.numpy() #convert tensor to numpy array\n",
    "            X_meta[i]= self.df.iloc[index][self.metadata_columns].values\n",
    "            y[i]= self.df.iloc[index][self.target_column]/100\n",
    "            #Apply log transformation to address skewness\n",
    "#             y[i]= np.log1p(y[i])\n",
    "#             y[i]= np.exp(y[i])\n",
    "        return X, X_meta, y\n",
    "    \n",
    "    def __getitem__(self, index):\n",
    "        indexes = self.indexes[index * self.batch_size : (index + 1) * self.batch_size]\n",
    "        X, X_meta, y = self.__data_generation(indexes)\n",
    "        y= tf.convert_to_tensor(y, dtype=tf.float32)\n",
    "        return [X,X_meta], y"
   ]
  },
  {
   "cell_type": "code",
   "execution_count": 5,
   "id": "bbafa823",
   "metadata": {
    "execution": {
     "iopub.execute_input": "2024-04-08T18:13:23.455418Z",
     "iopub.status.busy": "2024-04-08T18:13:23.454869Z",
     "iopub.status.idle": "2024-04-08T18:13:26.501544Z",
     "shell.execute_reply": "2024-04-08T18:13:26.500733Z"
    },
    "papermill": {
     "duration": 3.054865,
     "end_time": "2024-04-08T18:13:26.504076",
     "exception": false,
     "start_time": "2024-04-08T18:13:23.449211",
     "status": "completed"
    },
    "tags": []
   },
   "outputs": [
    {
     "name": "stdout",
     "output_type": "stream",
     "text": [
      "Downloading data from https://storage.googleapis.com/tensorflow/keras-applications/resnet/resnet50_weights_tf_dim_ordering_tf_kernels_notop.h5\n",
      "\u001b[1m94765736/94765736\u001b[0m \u001b[32m━━━━━━━━━━━━━━━━━━━━\u001b[0m\u001b[37m\u001b[0m \u001b[1m1s\u001b[0m 0us/step\n"
     ]
    }
   ],
   "source": [
    "#Define the model with resnet50 to extract features from images\n",
    "input_image = tf.keras.layers.Input(shape=(256, 256, 3))\n",
    "#convert image to greyscale\n",
    "# input_image = tf.keras.layers.Lambda(lambda x: tf.image.rgb_to_grayscale(x))(input_image)\n",
    "input_metadata = tf.keras.layers.Input(shape=(12,))\n",
    "# input_image = tf.keras.layers.RandomRotation(0.15)(input_image)\n",
    "base_model = tf.keras.applications.ResNet50(include_top=False, input_tensor=input_image,\n",
    "                                            weights='imagenet')\n",
    "# base_model= tf.keras.applications.SwinTransformer(include_top=False, input_tensor=input_image,\n",
    "#                                             weights='imagenet')\n",
    "for layer in base_model.layers:\n",
    "    layer.trainable= False\n",
    "x = base_model.output\n",
    "x2= tf.keras.layers.Flatten()(x)\n",
    "concat_layers = tf.keras.layers.Concatenate()([x2, input_metadata])\n",
    "l2= tf.keras.layers.Dense(512, activation='relu')(concat_layers)\n",
    "b1= tf.keras.layers.BatchNormalization()(l2)\n",
    "l3= tf.keras.layers.Dense(256, activation='relu')(b1)\n",
    "b2= tf.keras.layers.BatchNormalization()(l3)\n",
    "# l4= tf.keras.layers.Dense(128, activation='relu')(b2)\n",
    "# b3= tf.keras.layers.BatchNormalization()(l4)\n",
    "l5= tf.keras.layers.Dense(64, activation='relu')(b2)\n",
    "b4= tf.keras.layers.BatchNormalization()(l5)\n",
    "l6= tf.keras.layers.Dense(32, activation='relu')(b4)\n",
    "b5= tf.keras.layers.BatchNormalization()(l6)\n",
    "l7= tf.keras.layers.Dense(16, activation='relu')(b5)\n",
    "b6= tf.keras.layers.BatchNormalization()(l7)\n",
    "output_1 = tf.keras.layers.Dense(1, activation='sigmoid')(b6)\n",
    "#Output values between 0-100\n",
    "# output= output_1 * tf.constant([100.0], dtype=tf.float64)\n",
    "\n",
    "model = tf.keras.models.Model(inputs=[input_image,input_metadata], outputs=output_1)"
   ]
  },
  {
   "cell_type": "code",
   "execution_count": 6,
   "id": "b0a324de",
   "metadata": {
    "execution": {
     "iopub.execute_input": "2024-04-08T18:13:26.517954Z",
     "iopub.status.busy": "2024-04-08T18:13:26.517217Z",
     "iopub.status.idle": "2024-04-08T18:13:26.520955Z",
     "shell.execute_reply": "2024-04-08T18:13:26.520148Z"
    },
    "papermill": {
     "duration": 0.012427,
     "end_time": "2024-04-08T18:13:26.522840",
     "exception": false,
     "start_time": "2024-04-08T18:13:26.510413",
     "status": "completed"
    },
    "tags": []
   },
   "outputs": [],
   "source": [
    "# model.summary()"
   ]
  },
  {
   "cell_type": "code",
   "execution_count": 7,
   "id": "0dfa0a61",
   "metadata": {
    "execution": {
     "iopub.execute_input": "2024-04-08T18:13:26.535617Z",
     "iopub.status.busy": "2024-04-08T18:13:26.535108Z",
     "iopub.status.idle": "2024-04-08T18:13:26.539349Z",
     "shell.execute_reply": "2024-04-08T18:13:26.538561Z"
    },
    "papermill": {
     "duration": 0.012528,
     "end_time": "2024-04-08T18:13:26.541175",
     "exception": false,
     "start_time": "2024-04-08T18:13:26.528647",
     "status": "completed"
    },
    "tags": []
   },
   "outputs": [],
   "source": [
    "#Set dynamic learning rate to prevent overfitting\n",
    "initial_learning_rate = 0.008\n",
    "lr_schedule = tf.keras.optimizers.schedules.ExponentialDecay(\n",
    "    initial_learning_rate, decay_steps=10000, decay_rate=0.94, staircase=True\n",
    ")"
   ]
  },
  {
   "cell_type": "code",
   "execution_count": 8,
   "id": "84a33236",
   "metadata": {
    "execution": {
     "iopub.execute_input": "2024-04-08T18:13:26.554037Z",
     "iopub.status.busy": "2024-04-08T18:13:26.553387Z",
     "iopub.status.idle": "2024-04-08T18:13:26.567007Z",
     "shell.execute_reply": "2024-04-08T18:13:26.566359Z"
    },
    "papermill": {
     "duration": 0.021884,
     "end_time": "2024-04-08T18:13:26.568848",
     "exception": false,
     "start_time": "2024-04-08T18:13:26.546964",
     "status": "completed"
    },
    "tags": []
   },
   "outputs": [],
   "source": [
    "model.compile(optimizer=tf.keras.optimizers.Adam(learning_rate=lr_schedule), \n",
    "              loss= tf.keras.losses.MeanSquaredError(), \n",
    "              metrics=[tf.keras.metrics.RootMeanSquaredError()])"
   ]
  },
  {
   "cell_type": "code",
   "execution_count": 9,
   "id": "0ddae2ac",
   "metadata": {
    "execution": {
     "iopub.execute_input": "2024-04-08T18:13:26.581045Z",
     "iopub.status.busy": "2024-04-08T18:13:26.580809Z",
     "iopub.status.idle": "2024-04-08T18:13:26.585691Z",
     "shell.execute_reply": "2024-04-08T18:13:26.584840Z"
    },
    "papermill": {
     "duration": 0.013302,
     "end_time": "2024-04-08T18:13:26.587762",
     "exception": false,
     "start_time": "2024-04-08T18:13:26.574460",
     "status": "completed"
    },
    "tags": []
   },
   "outputs": [
    {
     "name": "stdout",
     "output_type": "stream",
     "text": [
      "[LogicalDevice(name='/device:GPU:0', device_type='GPU'), LogicalDevice(name='/device:GPU:1', device_type='GPU')]\n"
     ]
    }
   ],
   "source": [
    "print(tf.config.list_logical_devices('GPU'))"
   ]
  },
  {
   "cell_type": "code",
   "execution_count": 10,
   "id": "cb538aaa",
   "metadata": {
    "execution": {
     "iopub.execute_input": "2024-04-08T18:13:26.600672Z",
     "iopub.status.busy": "2024-04-08T18:13:26.600000Z",
     "iopub.status.idle": "2024-04-08T18:13:26.604800Z",
     "shell.execute_reply": "2024-04-08T18:13:26.603810Z"
    },
    "papermill": {
     "duration": 0.013342,
     "end_time": "2024-04-08T18:13:26.606857",
     "exception": false,
     "start_time": "2024-04-08T18:13:26.593515",
     "status": "completed"
    },
    "tags": []
   },
   "outputs": [],
   "source": [
    "def custom_loss(y1, y2):\n",
    "    error= (np.square(np.exp(5*y2)-np.exp(5*y1)))/1500\n",
    "    return tf.convert_to_tensor(error, dtype= tf.float32)"
   ]
  },
  {
   "cell_type": "code",
   "execution_count": 11,
   "id": "11af44b5",
   "metadata": {
    "execution": {
     "iopub.execute_input": "2024-04-08T18:13:26.620064Z",
     "iopub.status.busy": "2024-04-08T18:13:26.619825Z",
     "iopub.status.idle": "2024-04-08T19:59:04.617952Z",
     "shell.execute_reply": "2024-04-08T19:59:04.617000Z"
    },
    "papermill": {
     "duration": 6338.007171,
     "end_time": "2024-04-08T19:59:04.620061",
     "exception": false,
     "start_time": "2024-04-08T18:13:26.612890",
     "status": "completed"
    },
    "tags": []
   },
   "outputs": [
    {
     "name": "stdout",
     "output_type": "stream",
     "text": [
      "Start of epoch 0\n",
      "Training acc over epoch: 0.22059282660484314\n",
      "Validation acc: 0.20438160002231598\n",
      "Start of epoch 1\n",
      "Training acc over epoch: 0.21772348880767822\n",
      "Validation acc: 0.22557823359966278\n",
      "Start of epoch 2\n",
      "Training acc over epoch: 0.21662358939647675\n",
      "Validation acc: 0.21984684467315674\n",
      "Start of epoch 3\n",
      "Training acc over epoch: 0.2159544825553894\n",
      "Validation acc: 0.216550812125206\n",
      "Start of epoch 4\n",
      "Training acc over epoch: 0.21535807847976685\n",
      "Validation acc: 0.21586789190769196\n",
      "Start of epoch 5\n",
      "Training acc over epoch: 0.21487270295619965\n",
      "Validation acc: 0.21522583067417145\n",
      "Start of epoch 6\n",
      "Training acc over epoch: 0.21440207958221436\n",
      "Validation acc: 0.21398323774337769\n",
      "Start of epoch 7\n",
      "Training acc over epoch: 0.21392135322093964\n",
      "Validation acc: 0.21507583558559418\n",
      "Start of epoch 8\n",
      "Training acc over epoch: 0.2134021818637848\n",
      "Validation acc: 0.21476350724697113\n",
      "Start of epoch 9\n",
      "Training acc over epoch: 0.21283964812755585\n",
      "Validation acc: 0.21425199508666992\n",
      "Start of epoch 10\n",
      "Training acc over epoch: 0.212356835603714\n",
      "Validation acc: 0.2140064388513565\n",
      "Start of epoch 11\n",
      "Training acc over epoch: 0.21176765859127045\n",
      "Validation acc: 0.21359044313430786\n",
      "Start of epoch 12\n",
      "Training acc over epoch: 0.21116182208061218\n",
      "Validation acc: 0.21485383808612823\n",
      "Start of epoch 13\n",
      "Training acc over epoch: 0.21060818433761597\n",
      "Validation acc: 0.21485798060894012\n",
      "Start of epoch 14\n",
      "Training acc over epoch: 0.2100466787815094\n",
      "Validation acc: 0.21473953127861023\n",
      "Start of epoch 15\n",
      "Training acc over epoch: 0.20938517153263092\n",
      "Validation acc: 0.2149137556552887\n",
      "Start of epoch 16\n",
      "Training acc over epoch: 0.2087154984474182\n",
      "Validation acc: 0.21707923710346222\n",
      "Start of epoch 17\n",
      "Training acc over epoch: 0.20805610716342926\n",
      "Validation acc: 0.21676716208457947\n",
      "Start of epoch 18\n",
      "Training acc over epoch: 0.20737025141716003\n",
      "Validation acc: 0.21661819517612457\n",
      "Start of epoch 19\n",
      "Training acc over epoch: 0.2066253423690796\n",
      "Validation acc: 0.21676187217235565\n",
      "Start of epoch 20\n",
      "Training acc over epoch: 0.20580337941646576\n",
      "Validation acc: 0.21694238483905792\n",
      "Start of epoch 21\n",
      "Training acc over epoch: 0.20500494539737701\n",
      "Validation acc: 0.21827532351016998\n",
      "Start of epoch 22\n",
      "Training acc over epoch: 0.2042689174413681\n",
      "Validation acc: 0.21867378056049347\n",
      "Start of epoch 23\n",
      "Training acc over epoch: 0.20363685488700867\n",
      "Validation acc: 0.21934261918067932\n",
      "Start of epoch 24\n",
      "Training acc over epoch: 0.20298609137535095\n",
      "Validation acc: 0.2207740694284439\n"
     ]
    }
   ],
   "source": [
    "#Train the model\n",
    "train_loader = CustomDataLoader('/kaggle/input/petfinder-pawpularity-score/train/', train_df, metadata_columns, target_column, 32, (256, 256))\n",
    "validation_loader = CustomDataLoader('/kaggle/input/petfinder-pawpularity-score/train/', test_df, metadata_columns, target_column, 32, (256, 256))\n",
    "\n",
    "#Custom training loop for the model\n",
    "epochs= 25\n",
    "train_acc_values= []\n",
    "val_acc_values= []\n",
    "file= open('training_log.txt', 'w')\n",
    "# Define the loss function, optimizer, and metrics\n",
    "loss_fn = tf.keras.losses.MeanSquaredError()\n",
    "optimizer=tf.keras.optimizers.Adam(learning_rate=lr_schedule)\n",
    "train_metric = tf.keras.metrics.RootMeanSquaredError()\n",
    "val_metric = tf.keras.metrics.RootMeanSquaredError()\n",
    "\n",
    "# Loop over the epochs\n",
    "for epoch in range(epochs):\n",
    "    print(f\"Start of epoch {epoch}\")\n",
    "    file.write(f\"Start of epoch {epoch}\\n\")\n",
    "    #Iterate over the batches of dataset\n",
    "    for i, X in enumerate(train_loader):\n",
    "        X_images= X[0][0]\n",
    "        X_meta= X[0][1]\n",
    "        y= X[1]\n",
    "        with tf.GradientTape() as tape:\n",
    "            # Forward pass\n",
    "            logits = model([X_images, X_meta], training=True)\n",
    "#             sample_weights= tf.exp(y*3)\n",
    "            #Sample weights\n",
    "#             sample_weights= tf.where(y>np.exp(0.50), 10, 1)\n",
    "            sample_weights= tf.where(y>0.5, 2, 1)\n",
    "#             sample_weights= np.array()\n",
    "            # Compute the loss value\n",
    "            loss_value = loss_fn(y, logits, sample_weight= sample_weights)\n",
    "#             loss_value= custom_loss(y, logits)\n",
    "        # Backward pass\n",
    "        grads = tape.gradient(loss_value, model.trainable_weights)\n",
    "        # Update the weights\n",
    "        optimizer.apply_gradients(zip(grads, model.trainable_weights))\n",
    "        # Update training metric\n",
    "        train_metric.update_state(y, logits)\n",
    "    # Display metrics at the end of each epoch.\n",
    "    train_acc = train_metric.result()\n",
    "    print(f\"Training acc over epoch: {train_acc}\")\n",
    "    file.write(f\"Training acc over epoch: {train_acc}\\n\")\n",
    "    # Reset training metrics at the end of each epoch\n",
    "#     train_metric.reset_states()\n",
    "    # Run a validation loop at the end of each epoch.\n",
    "    for i, X in enumerate(validation_loader):\n",
    "        X_images= X[0][0]\n",
    "        X_meta= X[0][1]\n",
    "        y= X[1]\n",
    "        val_logits = model([X_images, X_meta], training=False)\n",
    "        # Update val metrics\n",
    "        val_metric.update_state(y, val_logits)\n",
    "    val_acc = val_metric.result()\n",
    "#     val_metric.reset_states()\n",
    "    print(f\"Validation acc: {val_acc}\")\n",
    "    file.write(f\"Validation acc: {val_acc}\\n\")\n",
    "    \n",
    "    #Store values for plotting\n",
    "    train_acc_values.append(train_acc)\n",
    "    val_acc_values.append(val_acc)\n",
    "file.close()   "
   ]
  },
  {
   "cell_type": "code",
   "execution_count": 12,
   "id": "978ae89a",
   "metadata": {
    "execution": {
     "iopub.execute_input": "2024-04-08T19:59:04.641607Z",
     "iopub.status.busy": "2024-04-08T19:59:04.641310Z",
     "iopub.status.idle": "2024-04-08T19:59:04.645163Z",
     "shell.execute_reply": "2024-04-08T19:59:04.644334Z"
    },
    "papermill": {
     "duration": 0.016641,
     "end_time": "2024-04-08T19:59:04.646955",
     "exception": false,
     "start_time": "2024-04-08T19:59:04.630314",
     "status": "completed"
    },
    "tags": []
   },
   "outputs": [],
   "source": [
    "# train_loader = CustomDataLoader('/kaggle/input/petfinder-pawpularity-score/train/', train_df, metadata_columns, target_column, 32, (100, 100))\n",
    "# validation_loader = CustomDataLoader('/kaggle/input/petfinder-pawpularity-score/train/', test_df, metadata_columns, target_column, 32, (100, 100))\n",
    "# history= model.fit(train_loader, validation_data= validation_loader, epochs= 2)"
   ]
  },
  {
   "cell_type": "code",
   "execution_count": 13,
   "id": "b76941b5",
   "metadata": {
    "execution": {
     "iopub.execute_input": "2024-04-08T19:59:04.667624Z",
     "iopub.status.busy": "2024-04-08T19:59:04.667361Z",
     "iopub.status.idle": "2024-04-08T19:59:12.919699Z",
     "shell.execute_reply": "2024-04-08T19:59:12.918677Z"
    },
    "papermill": {
     "duration": 8.265032,
     "end_time": "2024-04-08T19:59:12.921831",
     "exception": false,
     "start_time": "2024-04-08T19:59:04.656799",
     "status": "completed"
    },
    "tags": []
   },
   "outputs": [
    {
     "name": "stdout",
     "output_type": "stream",
     "text": [
      "Test acc: 0.20311160385608673\n"
     ]
    }
   ],
   "source": [
    "#Test the model\n",
    "test_loader = CustomDataLoader('/kaggle/input/petfinder-pawpularity-score/train/', test_df, metadata_columns, target_column, 32, (256, 256))\n",
    "#Custom testing loop for the model\n",
    "test_acc_values= []\n",
    "file= open('testing_log.txt', 'w')\n",
    "# Define the loss function, optimizer, and metrics\n",
    "for i, X in enumerate(test_loader):\n",
    "    X_images= X[0][0]\n",
    "    X_meta= X[0][1]\n",
    "    y= X[1]\n",
    "    logits = model([X_images, X_meta], training=False)\n",
    "#     logits= np.log(logits)\n",
    "#     y= np.log(y)\n",
    "#     logits= np.expm1(logits)\n",
    "    #Round the values to nearest integer\n",
    "#     logits= tf.math.round(logits)\n",
    "    file.write(f\"Predicted values: {logits}\\n\")\n",
    "    file.write(f\"Actual values: {y}\\n\")\n",
    "    # Compute the loss value\n",
    "    loss_value = loss_fn(y, logits)\n",
    "    # Update training metric\n",
    "    train_metric.update_state(y, logits)\n",
    "# Display metrics at the end of each epoch.\n",
    "test_acc = train_metric.result()\n",
    "print(f\"Test acc: {test_acc}\")\n",
    "file.write(f\"Test acc: {test_acc}\\n\")\n",
    "file.close()"
   ]
  },
  {
   "cell_type": "code",
   "execution_count": 14,
   "id": "256ce326",
   "metadata": {
    "execution": {
     "iopub.execute_input": "2024-04-08T19:59:12.943235Z",
     "iopub.status.busy": "2024-04-08T19:59:12.942716Z",
     "iopub.status.idle": "2024-04-08T19:59:13.880303Z",
     "shell.execute_reply": "2024-04-08T19:59:13.879398Z"
    },
    "papermill": {
     "duration": 0.950779,
     "end_time": "2024-04-08T19:59:13.882652",
     "exception": false,
     "start_time": "2024-04-08T19:59:12.931873",
     "status": "completed"
    },
    "tags": []
   },
   "outputs": [],
   "source": [
    "#save the model\n",
    "model.save_weights('pawpularity_model.weights.h5')"
   ]
  }
 ],
 "metadata": {
  "kaggle": {
   "accelerator": "nvidiaTeslaT4",
   "dataSources": [
    {
     "databundleVersionId": 2684322,
     "sourceId": 25383,
     "sourceType": "competition"
    }
   ],
   "dockerImageVersionId": 30664,
   "isGpuEnabled": true,
   "isInternetEnabled": true,
   "language": "python",
   "sourceType": "notebook"
  },
  "kernelspec": {
   "display_name": "Python 3",
   "language": "python",
   "name": "python3"
  },
  "language_info": {
   "codemirror_mode": {
    "name": "ipython",
    "version": 3
   },
   "file_extension": ".py",
   "mimetype": "text/x-python",
   "name": "python",
   "nbconvert_exporter": "python",
   "pygments_lexer": "ipython3",
   "version": "3.10.13"
  },
  "papermill": {
   "default_parameters": {},
   "duration": 6369.981112,
   "end_time": "2024-04-08T19:59:16.344767",
   "environment_variables": {},
   "exception": null,
   "input_path": "__notebook__.ipynb",
   "output_path": "__notebook__.ipynb",
   "parameters": {},
   "start_time": "2024-04-08T18:13:06.363655",
   "version": "2.5.0"
  }
 },
 "nbformat": 4,
 "nbformat_minor": 5
}
