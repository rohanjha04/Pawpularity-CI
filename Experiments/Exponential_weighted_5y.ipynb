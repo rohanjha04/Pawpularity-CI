{
 "cells": [
  {
   "cell_type": "code",
   "execution_count": 1,
   "id": "e3396f05",
   "metadata": {
    "_cell_guid": "b1076dfc-b9ad-4769-8c92-a6c4dae69d19",
    "_uuid": "8f2839f25d086af736a60e9eeb907d3b93b6e0e5",
    "execution": {
     "iopub.execute_input": "2024-04-08T10:28:13.294476Z",
     "iopub.status.busy": "2024-04-08T10:28:13.294204Z",
     "iopub.status.idle": "2024-04-08T10:28:27.668002Z",
     "shell.execute_reply": "2024-04-08T10:28:27.666919Z"
    },
    "papermill": {
     "duration": 14.382253,
     "end_time": "2024-04-08T10:28:27.670466",
     "exception": false,
     "start_time": "2024-04-08T10:28:13.288213",
     "status": "completed"
    },
    "tags": []
   },
   "outputs": [
    {
     "name": "stderr",
     "output_type": "stream",
     "text": [
      "2024-04-08 10:28:15.458485: E external/local_xla/xla/stream_executor/cuda/cuda_dnn.cc:9261] Unable to register cuDNN factory: Attempting to register factory for plugin cuDNN when one has already been registered\n",
      "2024-04-08 10:28:15.458580: E external/local_xla/xla/stream_executor/cuda/cuda_fft.cc:607] Unable to register cuFFT factory: Attempting to register factory for plugin cuFFT when one has already been registered\n",
      "2024-04-08 10:28:15.626536: E external/local_xla/xla/stream_executor/cuda/cuda_blas.cc:1515] Unable to register cuBLAS factory: Attempting to register factory for plugin cuBLAS when one has already been registered\n"
     ]
    }
   ],
   "source": [
    "#import neccessary libraries\n",
    "import tensorflow as tf\n",
    "import numpy as np\n",
    "import pandas as pd\n",
    "import matplotlib.pyplot as plt\n",
    "import os\n",
    "import re"
   ]
  },
  {
   "cell_type": "code",
   "execution_count": 2,
   "id": "51ff7613",
   "metadata": {
    "execution": {
     "iopub.execute_input": "2024-04-08T10:28:27.681509Z",
     "iopub.status.busy": "2024-04-08T10:28:27.680989Z",
     "iopub.status.idle": "2024-04-08T10:28:27.719584Z",
     "shell.execute_reply": "2024-04-08T10:28:27.718794Z"
    },
    "papermill": {
     "duration": 0.046037,
     "end_time": "2024-04-08T10:28:27.721597",
     "exception": false,
     "start_time": "2024-04-08T10:28:27.675560",
     "status": "completed"
    },
    "tags": []
   },
   "outputs": [],
   "source": [
    "train_df= pd.read_csv('/kaggle/input/petfinder-pawpularity-score/train.csv')\n",
    "metadata_columns= ['Subject Focus', 'Eyes', 'Face', 'Near', 'Action', 'Accessory', 'Group', 'Collage', 'Human', 'Occlusion', 'Info', 'Blur']\n",
    "target_column= 'Pawpularity'\n",
    "#Move last 500 images to test set\n",
    "test_df= train_df.iloc[-500:]\n",
    "#Delete last 500 images from train set\n",
    "train_df= train_df.iloc[:-500]\n",
    "\n",
    "#Now use last 500 images for validation\n",
    "validation_df= train_df.iloc[-500:]\n",
    "#Delete last 500 images from train set\n",
    "train_df= train_df.iloc[:-500]"
   ]
  },
  {
   "cell_type": "code",
   "execution_count": 3,
   "id": "b46e5740",
   "metadata": {
    "execution": {
     "iopub.execute_input": "2024-04-08T10:28:27.732365Z",
     "iopub.status.busy": "2024-04-08T10:28:27.732100Z",
     "iopub.status.idle": "2024-04-08T10:28:27.738645Z",
     "shell.execute_reply": "2024-04-08T10:28:27.737820Z"
    },
    "papermill": {
     "duration": 0.014067,
     "end_time": "2024-04-08T10:28:27.740722",
     "exception": false,
     "start_time": "2024-04-08T10:28:27.726655",
     "status": "completed"
    },
    "tags": []
   },
   "outputs": [
    {
     "data": {
      "text/plain": [
       "(8912, 500, 500)"
      ]
     },
     "execution_count": 3,
     "metadata": {},
     "output_type": "execute_result"
    }
   ],
   "source": [
    "len(train_df), len(validation_df), len(test_df)"
   ]
  },
  {
   "cell_type": "code",
   "execution_count": 4,
   "id": "4cccb572",
   "metadata": {
    "execution": {
     "iopub.execute_input": "2024-04-08T10:28:27.751255Z",
     "iopub.status.busy": "2024-04-08T10:28:27.750994Z",
     "iopub.status.idle": "2024-04-08T10:28:27.763565Z",
     "shell.execute_reply": "2024-04-08T10:28:27.762717Z"
    },
    "papermill": {
     "duration": 0.02001,
     "end_time": "2024-04-08T10:28:27.765461",
     "exception": false,
     "start_time": "2024-04-08T10:28:27.745451",
     "status": "completed"
    },
    "tags": []
   },
   "outputs": [],
   "source": [
    "#Write custom dataloader in python to load and shuffle the images and meta data\n",
    "class CustomDataLoader(tf.keras.utils.Sequence):\n",
    "    def __init__(self, root_dir, df, metadata_columns, target_column, batch_size, image_size, shuffle=True):\n",
    "        self.root_dir = root_dir\n",
    "        self.df = df\n",
    "        self.metadata_columns = metadata_columns\n",
    "        self.target_column = target_column\n",
    "        self.batch_size = batch_size\n",
    "        self.image_size = image_size\n",
    "        self.shuffle = shuffle\n",
    "        self.indexes = np.arange(len(self.df))\n",
    "        if self.shuffle:\n",
    "            np.random.shuffle(self.indexes)\n",
    "    \n",
    "    def __len__(self):\n",
    "        return len(self.df) // self.batch_size #return the number of batches\n",
    "    \n",
    "    def on_epoch_end(self):\n",
    "        if self.shuffle:\n",
    "            np.random.shuffle(self.indexes) #shuffle the indexes after each epoch\n",
    "    \n",
    "    def __data_generation(self, indexes):\n",
    "        X= np.empty((self.batch_size, self.image_size[0], self.image_size[1], 3))\n",
    "        X_meta= np.empty((self.batch_size, len(self.metadata_columns)))\n",
    "        # X_combined= []\n",
    "        y= np.empty((self.batch_size, 1))\n",
    "        for i, index in enumerate(indexes):\n",
    "            image_path = self.root_dir + self.df.iloc[index]['Id'] + '.jpg'\n",
    "            image = tf.io.read_file(image_path)\n",
    "            image = tf.image.decode_jpeg(image, channels=3)\n",
    "            image = tf.image.resize(image, self.image_size)\n",
    "            image = image / 255.0 #normalize the image\n",
    "            image = tf.cast(image, tf.float16)\n",
    "            image = tf.image.random_flip_left_right(image) #random flip left right\n",
    "            X[i]= image.numpy() #convert tensor to numpy array\n",
    "            X_meta[i]= self.df.iloc[index][self.metadata_columns].values\n",
    "            y[i]= self.df.iloc[index][self.target_column]/100\n",
    "            #Apply log transformation to address skewness\n",
    "#             y[i]= np.log1p(y[i])\n",
    "        return X, X_meta, y\n",
    "    \n",
    "    def __getitem__(self, index):\n",
    "        indexes = self.indexes[index * self.batch_size : (index + 1) * self.batch_size]\n",
    "        X, X_meta, y = self.__data_generation(indexes)\n",
    "        y= tf.convert_to_tensor(y, dtype=tf.float32)\n",
    "        return [X,X_meta], y"
   ]
  },
  {
   "cell_type": "code",
   "execution_count": 5,
   "id": "3b7d1670",
   "metadata": {
    "execution": {
     "iopub.execute_input": "2024-04-08T10:28:27.775366Z",
     "iopub.status.busy": "2024-04-08T10:28:27.775098Z",
     "iopub.status.idle": "2024-04-08T10:28:30.726014Z",
     "shell.execute_reply": "2024-04-08T10:28:30.724506Z"
    },
    "papermill": {
     "duration": 2.958852,
     "end_time": "2024-04-08T10:28:30.728791",
     "exception": false,
     "start_time": "2024-04-08T10:28:27.769939",
     "status": "completed"
    },
    "tags": []
   },
   "outputs": [
    {
     "name": "stdout",
     "output_type": "stream",
     "text": [
      "Downloading data from https://storage.googleapis.com/tensorflow/keras-applications/resnet/resnet50_weights_tf_dim_ordering_tf_kernels_notop.h5\n",
      "\u001b[1m94765736/94765736\u001b[0m \u001b[32m━━━━━━━━━━━━━━━━━━━━\u001b[0m\u001b[37m\u001b[0m \u001b[1m0s\u001b[0m 0us/step\n"
     ]
    }
   ],
   "source": [
    "#Define the model with resnet50 to extract features from images\n",
    "input_image = tf.keras.layers.Input(shape=(256, 256, 3))\n",
    "#convert image to greyscale\n",
    "# input_image = tf.keras.layers.Lambda(lambda x: tf.image.rgb_to_grayscale(x))(input_image)\n",
    "input_metadata = tf.keras.layers.Input(shape=(12,))\n",
    "# input_image = tf.keras.layers.RandomRotation(0.15)(input_image)\n",
    "base_model = tf.keras.applications.ResNet50(include_top=False, input_tensor=input_image,\n",
    "                                            weights='imagenet')\n",
    "# base_model= tf.keras.applications.SwinTransformer(include_top=False, input_tensor=input_image,\n",
    "#                                             weights='imagenet')\n",
    "for layer in base_model.layers:\n",
    "    layer.trainable= False\n",
    "x = base_model.output\n",
    "x2= tf.keras.layers.Flatten()(x)\n",
    "concat_layers = tf.keras.layers.Concatenate()([x2, input_metadata])\n",
    "l2= tf.keras.layers.Dense(512, activation='relu')(concat_layers)\n",
    "b1= tf.keras.layers.BatchNormalization()(l2)\n",
    "l3= tf.keras.layers.Dense(256, activation='relu')(b1)\n",
    "b2= tf.keras.layers.BatchNormalization()(l3)\n",
    "# l4= tf.keras.layers.Dense(128, activation='relu')(b2)\n",
    "# b3= tf.keras.layers.BatchNormalization()(l4)\n",
    "l5= tf.keras.layers.Dense(64, activation='relu')(b2)\n",
    "b4= tf.keras.layers.BatchNormalization()(l5)\n",
    "l6= tf.keras.layers.Dense(32, activation='relu')(b4)\n",
    "b5= tf.keras.layers.BatchNormalization()(l6)\n",
    "l7= tf.keras.layers.Dense(16, activation='relu')(b5)\n",
    "b6= tf.keras.layers.BatchNormalization()(l7)\n",
    "output_1 = tf.keras.layers.Dense(1, activation='sigmoid')(b6)\n",
    "#Output values between 0-100\n",
    "# output= output_1 * tf.constant([100.0], dtype=tf.float64)\n",
    "\n",
    "model = tf.keras.models.Model(inputs=[input_image,input_metadata], outputs=output_1)"
   ]
  },
  {
   "cell_type": "code",
   "execution_count": 6,
   "id": "9fe7bef2",
   "metadata": {
    "execution": {
     "iopub.execute_input": "2024-04-08T10:28:30.741534Z",
     "iopub.status.busy": "2024-04-08T10:28:30.741251Z",
     "iopub.status.idle": "2024-04-08T10:28:30.745072Z",
     "shell.execute_reply": "2024-04-08T10:28:30.744220Z"
    },
    "papermill": {
     "duration": 0.012018,
     "end_time": "2024-04-08T10:28:30.746895",
     "exception": false,
     "start_time": "2024-04-08T10:28:30.734877",
     "status": "completed"
    },
    "tags": []
   },
   "outputs": [],
   "source": [
    "# model.summary()"
   ]
  },
  {
   "cell_type": "code",
   "execution_count": 7,
   "id": "fd4f22ce",
   "metadata": {
    "execution": {
     "iopub.execute_input": "2024-04-08T10:28:30.759121Z",
     "iopub.status.busy": "2024-04-08T10:28:30.758644Z",
     "iopub.status.idle": "2024-04-08T10:28:30.763302Z",
     "shell.execute_reply": "2024-04-08T10:28:30.762241Z"
    },
    "papermill": {
     "duration": 0.012937,
     "end_time": "2024-04-08T10:28:30.765360",
     "exception": false,
     "start_time": "2024-04-08T10:28:30.752423",
     "status": "completed"
    },
    "tags": []
   },
   "outputs": [],
   "source": [
    "#Set dynamic learning rate to prevent overfitting\n",
    "initial_learning_rate = 0.01\n",
    "lr_schedule = tf.keras.optimizers.schedules.ExponentialDecay(\n",
    "    initial_learning_rate, decay_steps=10000, decay_rate=0.97, staircase=True\n",
    ")"
   ]
  },
  {
   "cell_type": "code",
   "execution_count": 8,
   "id": "5d0964f8",
   "metadata": {
    "execution": {
     "iopub.execute_input": "2024-04-08T10:28:30.777590Z",
     "iopub.status.busy": "2024-04-08T10:28:30.777331Z",
     "iopub.status.idle": "2024-04-08T10:28:30.791829Z",
     "shell.execute_reply": "2024-04-08T10:28:30.791110Z"
    },
    "papermill": {
     "duration": 0.022662,
     "end_time": "2024-04-08T10:28:30.793609",
     "exception": false,
     "start_time": "2024-04-08T10:28:30.770947",
     "status": "completed"
    },
    "tags": []
   },
   "outputs": [],
   "source": [
    "model.compile(optimizer=tf.keras.optimizers.Adam(learning_rate=lr_schedule), \n",
    "              loss= tf.keras.losses.MeanSquaredError(), \n",
    "              metrics=[tf.keras.metrics.RootMeanSquaredError()])"
   ]
  },
  {
   "cell_type": "code",
   "execution_count": 9,
   "id": "fab2ce25",
   "metadata": {
    "execution": {
     "iopub.execute_input": "2024-04-08T10:28:30.806152Z",
     "iopub.status.busy": "2024-04-08T10:28:30.805753Z",
     "iopub.status.idle": "2024-04-08T10:28:30.810480Z",
     "shell.execute_reply": "2024-04-08T10:28:30.809673Z"
    },
    "papermill": {
     "duration": 0.013262,
     "end_time": "2024-04-08T10:28:30.812453",
     "exception": false,
     "start_time": "2024-04-08T10:28:30.799191",
     "status": "completed"
    },
    "tags": []
   },
   "outputs": [
    {
     "name": "stdout",
     "output_type": "stream",
     "text": [
      "[LogicalDevice(name='/device:GPU:0', device_type='GPU'), LogicalDevice(name='/device:GPU:1', device_type='GPU')]\n"
     ]
    }
   ],
   "source": [
    "print(tf.config.list_logical_devices('GPU'))"
   ]
  },
  {
   "cell_type": "code",
   "execution_count": 10,
   "id": "41b88e34",
   "metadata": {
    "execution": {
     "iopub.execute_input": "2024-04-08T10:28:30.825430Z",
     "iopub.status.busy": "2024-04-08T10:28:30.825126Z",
     "iopub.status.idle": "2024-04-08T12:14:50.482276Z",
     "shell.execute_reply": "2024-04-08T12:14:50.481164Z"
    },
    "papermill": {
     "duration": 6379.66668,
     "end_time": "2024-04-08T12:14:50.484912",
     "exception": false,
     "start_time": "2024-04-08T10:28:30.818232",
     "status": "completed"
    },
    "tags": []
   },
   "outputs": [
    {
     "name": "stdout",
     "output_type": "stream",
     "text": [
      "Start of epoch 0\n",
      "Training acc over epoch: 0.4098094701766968\n",
      "Validation acc: 0.2968994081020355\n",
      "Start of epoch 1\n",
      "Training acc over epoch: 0.40281346440315247\n",
      "Validation acc: 0.3876820504665375\n",
      "Start of epoch 2\n",
      "Training acc over epoch: 0.3992781937122345\n",
      "Validation acc: 0.3867650628089905\n",
      "Start of epoch 3\n",
      "Training acc over epoch: 0.39672625064849854\n",
      "Validation acc: 0.3827824890613556\n",
      "Start of epoch 4\n",
      "Training acc over epoch: 0.394871324300766\n",
      "Validation acc: 0.3791080117225647\n",
      "Start of epoch 5\n",
      "Training acc over epoch: 0.3929598927497864\n",
      "Validation acc: 0.39262890815734863\n",
      "Start of epoch 6\n",
      "Training acc over epoch: 0.3909066319465637\n",
      "Validation acc: 0.380260705947876\n",
      "Start of epoch 7\n",
      "Training acc over epoch: 0.38868069648742676\n",
      "Validation acc: 0.3716725707054138\n",
      "Start of epoch 8\n",
      "Training acc over epoch: 0.3863130509853363\n",
      "Validation acc: 0.3610742688179016\n",
      "Start of epoch 9\n",
      "Training acc over epoch: 0.3840078115463257\n",
      "Validation acc: 0.35321730375289917\n",
      "Start of epoch 10\n",
      "Training acc over epoch: 0.38173791766166687\n",
      "Validation acc: 0.3517027497291565\n",
      "Start of epoch 11\n",
      "Training acc over epoch: 0.37987568974494934\n",
      "Validation acc: 0.3440181314945221\n",
      "Start of epoch 12\n",
      "Training acc over epoch: 0.37814992666244507\n",
      "Validation acc: 0.34270498156547546\n",
      "Start of epoch 13\n",
      "Training acc over epoch: 0.37599822878837585\n",
      "Validation acc: 0.3376186192035675\n",
      "Start of epoch 14\n",
      "Training acc over epoch: 0.3739982545375824\n",
      "Validation acc: 0.3361249566078186\n",
      "Start of epoch 15\n",
      "Training acc over epoch: 0.3718060851097107\n",
      "Validation acc: 0.3317432105541229\n",
      "Start of epoch 16\n",
      "Training acc over epoch: 0.36988937854766846\n",
      "Validation acc: 0.3282950222492218\n",
      "Start of epoch 17\n",
      "Training acc over epoch: 0.36812111735343933\n",
      "Validation acc: 0.3297620415687561\n",
      "Start of epoch 18\n",
      "Training acc over epoch: 0.3668864071369171\n",
      "Validation acc: 0.3456572890281677\n",
      "Start of epoch 19\n",
      "Training acc over epoch: 0.36545321345329285\n",
      "Validation acc: 0.3651864230632782\n",
      "Start of epoch 20\n",
      "Training acc over epoch: 0.3644280433654785\n",
      "Validation acc: 0.36924636363983154\n",
      "Start of epoch 21\n",
      "Training acc over epoch: 0.362900048494339\n",
      "Validation acc: 0.36414578557014465\n",
      "Start of epoch 22\n",
      "Training acc over epoch: 0.36119183897972107\n",
      "Validation acc: 0.3598182499408722\n",
      "Start of epoch 23\n",
      "Training acc over epoch: 0.3597109615802765\n",
      "Validation acc: 0.35577258467674255\n",
      "Start of epoch 24\n",
      "Training acc over epoch: 0.35813793540000916\n",
      "Validation acc: 0.3528617024421692\n"
     ]
    }
   ],
   "source": [
    "#Train the model\n",
    "train_loader = CustomDataLoader('/kaggle/input/petfinder-pawpularity-score/train/', train_df, metadata_columns, target_column, 32, (256, 256))\n",
    "validation_loader = CustomDataLoader('/kaggle/input/petfinder-pawpularity-score/train/', test_df, metadata_columns, target_column, 32, (256, 256))\n",
    "\n",
    "#Custom training loop for the model\n",
    "epochs= 25\n",
    "train_acc_values= []\n",
    "val_acc_values= []\n",
    "file= open('training_log.txt', 'w')\n",
    "# Define the loss function, optimizer, and metrics\n",
    "loss_fn = tf.keras.losses.MeanSquaredError()\n",
    "optimizer=tf.keras.optimizers.Adam(learning_rate=lr_schedule)\n",
    "train_metric = tf.keras.metrics.RootMeanSquaredError()\n",
    "val_metric = tf.keras.metrics.RootMeanSquaredError()\n",
    "\n",
    "# Loop over the epochs\n",
    "for epoch in range(epochs):\n",
    "    print(f\"Start of epoch {epoch}\")\n",
    "    file.write(f\"Start of epoch {epoch}\\n\")\n",
    "    #Iterate over the batches of dataset\n",
    "    for i, X in enumerate(train_loader):\n",
    "        X_images= X[0][0]\n",
    "        X_meta= X[0][1]\n",
    "        y= X[1]\n",
    "        with tf.GradientTape() as tape:\n",
    "            # Forward pass\n",
    "            logits = model([X_images, X_meta], training=True)\n",
    "            sample_weights= tf.exp(5*y)\n",
    "            #Sample weights\n",
    "#             sample_weights= tf.where(y>0.5, 4, 1)\n",
    "            # Compute the loss value\n",
    "            loss_value = loss_fn(y, logits, sample_weight= sample_weights)\n",
    "        # Backward pass\n",
    "        grads = tape.gradient(loss_value, model.trainable_weights)\n",
    "        # Update the weights\n",
    "        optimizer.apply_gradients(zip(grads, model.trainable_weights))\n",
    "        # Update training metric\n",
    "        train_metric.update_state(y, logits)\n",
    "    # Display metrics at the end of each epoch.\n",
    "    train_acc = train_metric.result()\n",
    "    print(f\"Training acc over epoch: {train_acc}\")\n",
    "    file.write(f\"Training acc over epoch: {train_acc}\\n\")\n",
    "    # Reset training metrics at the end of each epoch\n",
    "#     train_metric.reset_states()\n",
    "    # Run a validation loop at the end of each epoch.\n",
    "    for i, X in enumerate(validation_loader):\n",
    "        X_images= X[0][0]\n",
    "        X_meta= X[0][1]\n",
    "        y= X[1]\n",
    "        val_logits = model([X_images, X_meta], training=False)\n",
    "        # Update val metrics\n",
    "        val_metric.update_state(y, val_logits)\n",
    "    val_acc = val_metric.result()\n",
    "#     val_metric.reset_states()\n",
    "    print(f\"Validation acc: {val_acc}\")\n",
    "    file.write(f\"Validation acc: {val_acc}\\n\")\n",
    "    \n",
    "    #Store values for plotting\n",
    "    train_acc_values.append(train_acc)\n",
    "    val_acc_values.append(val_acc)\n",
    "file.close()\n",
    "    "
   ]
  },
  {
   "cell_type": "code",
   "execution_count": 11,
   "id": "4fb608d0",
   "metadata": {
    "execution": {
     "iopub.execute_input": "2024-04-08T12:14:50.508942Z",
     "iopub.status.busy": "2024-04-08T12:14:50.508250Z",
     "iopub.status.idle": "2024-04-08T12:14:50.512749Z",
     "shell.execute_reply": "2024-04-08T12:14:50.511928Z"
    },
    "papermill": {
     "duration": 0.016702,
     "end_time": "2024-04-08T12:14:50.514624",
     "exception": false,
     "start_time": "2024-04-08T12:14:50.497922",
     "status": "completed"
    },
    "tags": []
   },
   "outputs": [],
   "source": [
    "# train_loader = CustomDataLoader('/kaggle/input/petfinder-pawpularity-score/train/', train_df, metadata_columns, target_column, 32, (100, 100))\n",
    "# validation_loader = CustomDataLoader('/kaggle/input/petfinder-pawpularity-score/train/', test_df, metadata_columns, target_column, 32, (100, 100))\n",
    "# history= model.fit(train_loader, validation_data= validation_loader, epochs= 2)"
   ]
  },
  {
   "cell_type": "code",
   "execution_count": 12,
   "id": "7c354a63",
   "metadata": {
    "execution": {
     "iopub.execute_input": "2024-04-08T12:14:50.534709Z",
     "iopub.status.busy": "2024-04-08T12:14:50.533960Z",
     "iopub.status.idle": "2024-04-08T12:14:59.333654Z",
     "shell.execute_reply": "2024-04-08T12:14:59.332621Z"
    },
    "papermill": {
     "duration": 8.811901,
     "end_time": "2024-04-08T12:14:59.335758",
     "exception": false,
     "start_time": "2024-04-08T12:14:50.523857",
     "status": "completed"
    },
    "tags": []
   },
   "outputs": [
    {
     "name": "stdout",
     "output_type": "stream",
     "text": [
      "Test acc: 0.35798928141593933\n"
     ]
    }
   ],
   "source": [
    "#Test the model\n",
    "test_loader = CustomDataLoader('/kaggle/input/petfinder-pawpularity-score/train/', test_df, metadata_columns, target_column, 32, (256, 256))\n",
    "#Custom testing loop for the model\n",
    "test_acc_values= []\n",
    "file= open('testing_log.txt', 'w')\n",
    "# Define the loss function, optimizer, and metrics\n",
    "for i, X in enumerate(test_loader):\n",
    "    X_images= X[0][0]\n",
    "    X_meta= X[0][1]\n",
    "    y= X[1]\n",
    "    logits = model([X_images, X_meta], training=False)\n",
    "#     logits= np.expm1(logits)\n",
    "    #Round the values to nearest integer\n",
    "#     logits= tf.math.round(logits)\n",
    "    file.write(f\"Predicted values: {logits}\\n\")\n",
    "    file.write(f\"Actual values: {y}\\n\")\n",
    "    # Compute the loss value\n",
    "    loss_value = loss_fn(y, logits)\n",
    "    # Update training metric\n",
    "    train_metric.update_state(y, logits)\n",
    "# Display metrics at the end of each epoch.\n",
    "test_acc = train_metric.result()\n",
    "print(f\"Test acc: {test_acc}\")\n",
    "file.write(f\"Test acc: {test_acc}\\n\")\n",
    "file.close()"
   ]
  },
  {
   "cell_type": "code",
   "execution_count": 13,
   "id": "68e1454d",
   "metadata": {
    "execution": {
     "iopub.execute_input": "2024-04-08T12:14:59.356722Z",
     "iopub.status.busy": "2024-04-08T12:14:59.356421Z",
     "iopub.status.idle": "2024-04-08T12:15:00.327216Z",
     "shell.execute_reply": "2024-04-08T12:15:00.326244Z"
    },
    "papermill": {
     "duration": 0.98443,
     "end_time": "2024-04-08T12:15:00.330024",
     "exception": false,
     "start_time": "2024-04-08T12:14:59.345594",
     "status": "completed"
    },
    "tags": []
   },
   "outputs": [],
   "source": [
    "#save the model\n",
    "model.save_weights('pawpularity_model.weights.h5')"
   ]
  }
 ],
 "metadata": {
  "kaggle": {
   "accelerator": "nvidiaTeslaT4",
   "dataSources": [
    {
     "databundleVersionId": 2684322,
     "sourceId": 25383,
     "sourceType": "competition"
    }
   ],
   "dockerImageVersionId": 30664,
   "isGpuEnabled": true,
   "isInternetEnabled": true,
   "language": "python",
   "sourceType": "notebook"
  },
  "kernelspec": {
   "display_name": "Python 3",
   "language": "python",
   "name": "python3"
  },
  "language_info": {
   "codemirror_mode": {
    "name": "ipython",
    "version": 3
   },
   "file_extension": ".py",
   "mimetype": "text/x-python",
   "name": "python",
   "nbconvert_exporter": "python",
   "pygments_lexer": "ipython3",
   "version": "3.10.13"
  },
  "papermill": {
   "default_parameters": {},
   "duration": 6413.054444,
   "end_time": "2024-04-08T12:15:03.326130",
   "environment_variables": {},
   "exception": null,
   "input_path": "__notebook__.ipynb",
   "output_path": "__notebook__.ipynb",
   "parameters": {},
   "start_time": "2024-04-08T10:28:10.271686",
   "version": "2.5.0"
  }
 },
 "nbformat": 4,
 "nbformat_minor": 5
}
