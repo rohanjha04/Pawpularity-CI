{
 "cells": [
  {
   "cell_type": "code",
   "execution_count": 1,
   "id": "485026b6",
   "metadata": {
    "_cell_guid": "b1076dfc-b9ad-4769-8c92-a6c4dae69d19",
    "_uuid": "8f2839f25d086af736a60e9eeb907d3b93b6e0e5",
    "execution": {
     "iopub.execute_input": "2024-04-08T18:08:16.546086Z",
     "iopub.status.busy": "2024-04-08T18:08:16.545291Z",
     "iopub.status.idle": "2024-04-08T18:08:29.070885Z",
     "shell.execute_reply": "2024-04-08T18:08:29.069973Z"
    },
    "papermill": {
     "duration": 12.534438,
     "end_time": "2024-04-08T18:08:29.073151",
     "exception": false,
     "start_time": "2024-04-08T18:08:16.538713",
     "status": "completed"
    },
    "tags": []
   },
   "outputs": [
    {
     "name": "stderr",
     "output_type": "stream",
     "text": [
      "2024-04-08 18:08:18.281668: E external/local_xla/xla/stream_executor/cuda/cuda_dnn.cc:9261] Unable to register cuDNN factory: Attempting to register factory for plugin cuDNN when one has already been registered\n",
      "2024-04-08 18:08:18.281776: E external/local_xla/xla/stream_executor/cuda/cuda_fft.cc:607] Unable to register cuFFT factory: Attempting to register factory for plugin cuFFT when one has already been registered\n",
      "2024-04-08 18:08:18.411339: E external/local_xla/xla/stream_executor/cuda/cuda_blas.cc:1515] Unable to register cuBLAS factory: Attempting to register factory for plugin cuBLAS when one has already been registered\n"
     ]
    }
   ],
   "source": [
    "#import neccessary libraries\n",
    "import tensorflow as tf\n",
    "import numpy as np\n",
    "import pandas as pd\n",
    "import matplotlib.pyplot as plt\n",
    "import os\n",
    "import re"
   ]
  },
  {
   "cell_type": "code",
   "execution_count": 2,
   "id": "f23406a4",
   "metadata": {
    "execution": {
     "iopub.execute_input": "2024-04-08T18:08:29.084271Z",
     "iopub.status.busy": "2024-04-08T18:08:29.083768Z",
     "iopub.status.idle": "2024-04-08T18:08:29.122313Z",
     "shell.execute_reply": "2024-04-08T18:08:29.121564Z"
    },
    "papermill": {
     "duration": 0.04606,
     "end_time": "2024-04-08T18:08:29.124321",
     "exception": false,
     "start_time": "2024-04-08T18:08:29.078261",
     "status": "completed"
    },
    "tags": []
   },
   "outputs": [],
   "source": [
    "train_df= pd.read_csv('/kaggle/input/petfinder-pawpularity-score/train.csv')\n",
    "metadata_columns= ['Subject Focus', 'Eyes', 'Face', 'Near', 'Action', 'Accessory', 'Group', 'Collage', 'Human', 'Occlusion', 'Info', 'Blur']\n",
    "target_column= 'Pawpularity'\n",
    "#Move last 500 images to test set\n",
    "test_df= train_df.iloc[-500:]\n",
    "#Delete last 500 images from train set\n",
    "train_df= train_df.iloc[:-500]\n",
    "\n",
    "#Now use last 500 images for validation\n",
    "validation_df= train_df.iloc[-500:]\n",
    "#Delete last 500 images from train set\n",
    "train_df= train_df.iloc[:-500]"
   ]
  },
  {
   "cell_type": "code",
   "execution_count": 3,
   "id": "99d1bed6",
   "metadata": {
    "execution": {
     "iopub.execute_input": "2024-04-08T18:08:29.135572Z",
     "iopub.status.busy": "2024-04-08T18:08:29.135235Z",
     "iopub.status.idle": "2024-04-08T18:08:29.142251Z",
     "shell.execute_reply": "2024-04-08T18:08:29.141332Z"
    },
    "papermill": {
     "duration": 0.014775,
     "end_time": "2024-04-08T18:08:29.144252",
     "exception": false,
     "start_time": "2024-04-08T18:08:29.129477",
     "status": "completed"
    },
    "tags": []
   },
   "outputs": [
    {
     "data": {
      "text/plain": [
       "(8912, 500, 500)"
      ]
     },
     "execution_count": 3,
     "metadata": {},
     "output_type": "execute_result"
    }
   ],
   "source": [
    "len(train_df), len(validation_df), len(test_df)"
   ]
  },
  {
   "cell_type": "code",
   "execution_count": 4,
   "id": "34c16328",
   "metadata": {
    "execution": {
     "iopub.execute_input": "2024-04-08T18:08:29.155610Z",
     "iopub.status.busy": "2024-04-08T18:08:29.155338Z",
     "iopub.status.idle": "2024-04-08T18:08:29.168966Z",
     "shell.execute_reply": "2024-04-08T18:08:29.168096Z"
    },
    "papermill": {
     "duration": 0.021594,
     "end_time": "2024-04-08T18:08:29.170922",
     "exception": false,
     "start_time": "2024-04-08T18:08:29.149328",
     "status": "completed"
    },
    "tags": []
   },
   "outputs": [],
   "source": [
    "#Write custom dataloader in python to load and shuffle the images and meta data\n",
    "class CustomDataLoader(tf.keras.utils.Sequence):\n",
    "    def __init__(self, root_dir, df, metadata_columns, target_column, batch_size, image_size, shuffle=True):\n",
    "        self.root_dir = root_dir\n",
    "        self.df = df\n",
    "        self.metadata_columns = metadata_columns\n",
    "        self.target_column = target_column\n",
    "        self.batch_size = batch_size\n",
    "        self.image_size = image_size\n",
    "        self.shuffle = shuffle\n",
    "        self.indexes = np.arange(len(self.df))\n",
    "        if self.shuffle:\n",
    "            np.random.shuffle(self.indexes)\n",
    "    \n",
    "    def __len__(self):\n",
    "        return len(self.df) // self.batch_size #return the number of batches\n",
    "    \n",
    "    def on_epoch_end(self):\n",
    "        if self.shuffle:\n",
    "            np.random.shuffle(self.indexes) #shuffle the indexes after each epoch\n",
    "    \n",
    "    def __data_generation(self, indexes):\n",
    "        X= np.empty((self.batch_size, self.image_size[0], self.image_size[1], 3))\n",
    "        X_meta= np.empty((self.batch_size, len(self.metadata_columns)))\n",
    "        # X_combined= []\n",
    "        y= np.empty((self.batch_size, 1))\n",
    "        for i, index in enumerate(indexes):\n",
    "            image_path = self.root_dir + self.df.iloc[index]['Id'] + '.jpg'\n",
    "            image = tf.io.read_file(image_path)\n",
    "            image = tf.image.decode_jpeg(image, channels=3)\n",
    "            image = tf.image.resize(image, self.image_size)\n",
    "            image = image / 255.0 #normalize the image\n",
    "            image = tf.cast(image, tf.float16)\n",
    "            image = tf.image.random_flip_left_right(image) #random flip left right\n",
    "            X[i]= image.numpy() #convert tensor to numpy array\n",
    "            X_meta[i]= self.df.iloc[index][self.metadata_columns].values\n",
    "            y[i]= self.df.iloc[index][self.target_column]/100\n",
    "            #Apply log transformation to address skewness\n",
    "            y[i]= np.log1p(y[i])\n",
    "#             y[i]= np.exp(y[i])\n",
    "        return X, X_meta, y\n",
    "    \n",
    "    def __getitem__(self, index):\n",
    "        indexes = self.indexes[index * self.batch_size : (index + 1) * self.batch_size]\n",
    "        X, X_meta, y = self.__data_generation(indexes)\n",
    "        y= tf.convert_to_tensor(y, dtype=tf.float32)\n",
    "        return [X,X_meta], y"
   ]
  },
  {
   "cell_type": "code",
   "execution_count": 5,
   "id": "ad5a7dbd",
   "metadata": {
    "execution": {
     "iopub.execute_input": "2024-04-08T18:08:29.181854Z",
     "iopub.status.busy": "2024-04-08T18:08:29.181559Z",
     "iopub.status.idle": "2024-04-08T18:08:33.841876Z",
     "shell.execute_reply": "2024-04-08T18:08:33.841097Z"
    },
    "papermill": {
     "duration": 4.668307,
     "end_time": "2024-04-08T18:08:33.844195",
     "exception": false,
     "start_time": "2024-04-08T18:08:29.175888",
     "status": "completed"
    },
    "tags": []
   },
   "outputs": [
    {
     "name": "stdout",
     "output_type": "stream",
     "text": [
      "Downloading data from https://storage.googleapis.com/tensorflow/keras-applications/resnet/resnet50_weights_tf_dim_ordering_tf_kernels_notop.h5\n",
      "\u001b[1m94765736/94765736\u001b[0m \u001b[32m━━━━━━━━━━━━━━━━━━━━\u001b[0m\u001b[37m\u001b[0m \u001b[1m2s\u001b[0m 0us/step\n"
     ]
    }
   ],
   "source": [
    "#Define the model with resnet50 to extract features from images\n",
    "input_image = tf.keras.layers.Input(shape=(256, 256, 3))\n",
    "#convert image to greyscale\n",
    "# input_image = tf.keras.layers.Lambda(lambda x: tf.image.rgb_to_grayscale(x))(input_image)\n",
    "input_metadata = tf.keras.layers.Input(shape=(12,))\n",
    "# input_image = tf.keras.layers.RandomRotation(0.15)(input_image)\n",
    "base_model = tf.keras.applications.ResNet50(include_top=False, input_tensor=input_image,\n",
    "                                            weights='imagenet')\n",
    "# base_model= tf.keras.applications.SwinTransformer(include_top=False, input_tensor=input_image,\n",
    "#                                             weights='imagenet')\n",
    "for layer in base_model.layers:\n",
    "    layer.trainable= False\n",
    "x = base_model.output\n",
    "x2= tf.keras.layers.Flatten()(x)\n",
    "concat_layers = tf.keras.layers.Concatenate()([x2, input_metadata])\n",
    "l2= tf.keras.layers.Dense(512, activation='relu')(concat_layers)\n",
    "b1= tf.keras.layers.BatchNormalization()(l2)\n",
    "l3= tf.keras.layers.Dense(256, activation='relu')(b1)\n",
    "b2= tf.keras.layers.BatchNormalization()(l3)\n",
    "# l4= tf.keras.layers.Dense(128, activation='relu')(b2)\n",
    "# b3= tf.keras.layers.BatchNormalization()(l4)\n",
    "l5= tf.keras.layers.Dense(64, activation='relu')(b2)\n",
    "b4= tf.keras.layers.BatchNormalization()(l5)\n",
    "l6= tf.keras.layers.Dense(32, activation='relu')(b4)\n",
    "b5= tf.keras.layers.BatchNormalization()(l6)\n",
    "l7= tf.keras.layers.Dense(16, activation='relu')(b5)\n",
    "b6= tf.keras.layers.BatchNormalization()(l7)\n",
    "output_1 = tf.keras.layers.Dense(1, activation='sigmoid')(b6)\n",
    "#Output values between 0-100\n",
    "# output= output_1 * tf.constant([100.0], dtype=tf.float64)\n",
    "\n",
    "model = tf.keras.models.Model(inputs=[input_image,input_metadata], outputs=output_1)"
   ]
  },
  {
   "cell_type": "code",
   "execution_count": 6,
   "id": "1e0f40a3",
   "metadata": {
    "execution": {
     "iopub.execute_input": "2024-04-08T18:08:33.862882Z",
     "iopub.status.busy": "2024-04-08T18:08:33.862574Z",
     "iopub.status.idle": "2024-04-08T18:08:33.866718Z",
     "shell.execute_reply": "2024-04-08T18:08:33.865795Z"
    },
    "papermill": {
     "duration": 0.015855,
     "end_time": "2024-04-08T18:08:33.868753",
     "exception": false,
     "start_time": "2024-04-08T18:08:33.852898",
     "status": "completed"
    },
    "tags": []
   },
   "outputs": [],
   "source": [
    "# model.summary()"
   ]
  },
  {
   "cell_type": "code",
   "execution_count": 7,
   "id": "c56421d6",
   "metadata": {
    "execution": {
     "iopub.execute_input": "2024-04-08T18:08:33.886941Z",
     "iopub.status.busy": "2024-04-08T18:08:33.886683Z",
     "iopub.status.idle": "2024-04-08T18:08:33.891030Z",
     "shell.execute_reply": "2024-04-08T18:08:33.890177Z"
    },
    "papermill": {
     "duration": 0.015855,
     "end_time": "2024-04-08T18:08:33.893009",
     "exception": false,
     "start_time": "2024-04-08T18:08:33.877154",
     "status": "completed"
    },
    "tags": []
   },
   "outputs": [],
   "source": [
    "#Set dynamic learning rate to prevent overfitting\n",
    "initial_learning_rate = 0.008\n",
    "lr_schedule = tf.keras.optimizers.schedules.ExponentialDecay(\n",
    "    initial_learning_rate, decay_steps=10000, decay_rate=0.94, staircase=True\n",
    ")"
   ]
  },
  {
   "cell_type": "code",
   "execution_count": 8,
   "id": "0970809d",
   "metadata": {
    "execution": {
     "iopub.execute_input": "2024-04-08T18:08:33.910964Z",
     "iopub.status.busy": "2024-04-08T18:08:33.910726Z",
     "iopub.status.idle": "2024-04-08T18:08:33.924614Z",
     "shell.execute_reply": "2024-04-08T18:08:33.924036Z"
    },
    "papermill": {
     "duration": 0.02503,
     "end_time": "2024-04-08T18:08:33.926521",
     "exception": false,
     "start_time": "2024-04-08T18:08:33.901491",
     "status": "completed"
    },
    "tags": []
   },
   "outputs": [],
   "source": [
    "model.compile(optimizer=tf.keras.optimizers.Adam(learning_rate=lr_schedule), \n",
    "              loss= tf.keras.losses.MeanSquaredError(), \n",
    "              metrics=[tf.keras.metrics.RootMeanSquaredError()])"
   ]
  },
  {
   "cell_type": "code",
   "execution_count": 9,
   "id": "5c8487cd",
   "metadata": {
    "execution": {
     "iopub.execute_input": "2024-04-08T18:08:33.944545Z",
     "iopub.status.busy": "2024-04-08T18:08:33.944000Z",
     "iopub.status.idle": "2024-04-08T18:08:33.948455Z",
     "shell.execute_reply": "2024-04-08T18:08:33.947610Z"
    },
    "papermill": {
     "duration": 0.015976,
     "end_time": "2024-04-08T18:08:33.950804",
     "exception": false,
     "start_time": "2024-04-08T18:08:33.934828",
     "status": "completed"
    },
    "tags": []
   },
   "outputs": [
    {
     "name": "stdout",
     "output_type": "stream",
     "text": [
      "[LogicalDevice(name='/device:GPU:0', device_type='GPU'), LogicalDevice(name='/device:GPU:1', device_type='GPU')]\n"
     ]
    }
   ],
   "source": [
    "print(tf.config.list_logical_devices('GPU'))"
   ]
  },
  {
   "cell_type": "code",
   "execution_count": 10,
   "id": "73ae8350",
   "metadata": {
    "execution": {
     "iopub.execute_input": "2024-04-08T18:08:33.968291Z",
     "iopub.status.busy": "2024-04-08T18:08:33.968026Z",
     "iopub.status.idle": "2024-04-08T18:08:33.972379Z",
     "shell.execute_reply": "2024-04-08T18:08:33.971664Z"
    },
    "papermill": {
     "duration": 0.014929,
     "end_time": "2024-04-08T18:08:33.974166",
     "exception": false,
     "start_time": "2024-04-08T18:08:33.959237",
     "status": "completed"
    },
    "tags": []
   },
   "outputs": [],
   "source": [
    "def custom_loss(y1, y2):\n",
    "    error= (np.square(np.exp(5*y2)-np.exp(5*y1)))/1500\n",
    "    return tf.convert_to_tensor(error, dtype= tf.float32)"
   ]
  },
  {
   "cell_type": "code",
   "execution_count": null,
   "id": "732abf60",
   "metadata": {
    "execution": {
     "iopub.execute_input": "2024-04-08T18:08:33.991880Z",
     "iopub.status.busy": "2024-04-08T18:08:33.991642Z",
     "iopub.status.idle": "2024-04-08T19:55:46.357599Z",
     "shell.execute_reply": "2024-04-08T19:55:46.356531Z"
    },
    "papermill": {
     "duration": 6432.377291,
     "end_time": "2024-04-08T19:55:46.359641",
     "exception": false,
     "start_time": "2024-04-08T18:08:33.982350",
     "status": "completed"
    },
    "tags": []
   },
   "outputs": [],
   "source": [
    "#Train the model\n",
    "train_loader = CustomDataLoader('/kaggle/input/petfinder-pawpularity-score/train/', train_df, metadata_columns, target_column, 32, (256, 256))\n",
    "validation_loader = CustomDataLoader('/kaggle/input/petfinder-pawpularity-score/train/', test_df, metadata_columns, target_column, 32, (256, 256))\n",
    "\n",
    "#Custom training loop for the model\n",
    "epochs= 25\n",
    "train_acc_values= []\n",
    "val_acc_values= []\n",
    "file= open('training_log.txt', 'w')\n",
    "# Define the loss function, optimizer, and metrics\n",
    "loss_fn = tf.keras.losses.MeanSquaredError()\n",
    "optimizer=tf.keras.optimizers.Adam(learning_rate=lr_schedule)\n",
    "train_metric = tf.keras.metrics.RootMeanSquaredError()\n",
    "val_metric = tf.keras.metrics.RootMeanSquaredError()\n",
    "\n",
    "# Loop over the epochs\n",
    "for epoch in range(epochs):\n",
    "    print(f\"Start of epoch {epoch}\")\n",
    "    file.write(f\"Start of epoch {epoch}\\n\")\n",
    "    #Iterate over the batches of dataset\n",
    "    for i, X in enumerate(train_loader):\n",
    "        X_images= X[0][0]\n",
    "        X_meta= X[0][1]\n",
    "        y= X[1]\n",
    "        with tf.GradientTape() as tape:\n",
    "            # Forward pass\n",
    "            logits = model([X_images, X_meta], training=True)\n",
    "#             sample_weights= tf.exp(y*3)\n",
    "            #Sample weights\n",
    "#             sample_weights= tf.where(y>np.exp(0.50), 10, 1)\n",
    "            # sample_weights= tf.where(y>0.5, 1.5, 1)\n",
    "#             sample_weights= np.array()\n",
    "            # Compute the loss value\n",
    "            loss_value = loss_fn(y, logits)\n",
    "#             loss_value= custom_loss(y, logits)\n",
    "        # Backward pass\n",
    "        grads = tape.gradient(loss_value, model.trainable_weights)\n",
    "        # Update the weights\n",
    "        optimizer.apply_gradients(zip(grads, model.trainable_weights))\n",
    "        # Update training metric\n",
    "        train_metric.update_state(y, logits)\n",
    "    # Display metrics at the end of each epoch.\n",
    "    train_acc = train_metric.result()\n",
    "    print(f\"Training acc over epoch: {train_acc}\")\n",
    "    file.write(f\"Training acc over epoch: {train_acc}\\n\")\n",
    "    # Reset training metrics at the end of each epoch\n",
    "#     train_metric.reset_states()\n",
    "    # Run a validation loop at the end of each epoch.\n",
    "    for i, X in enumerate(validation_loader):\n",
    "        X_images= X[0][0]\n",
    "        X_meta= X[0][1]\n",
    "        y= X[1]\n",
    "        val_logits = model([X_images, X_meta], training=False)\n",
    "        # Update val metrics\n",
    "        val_metric.update_state(y, val_logits)\n",
    "    val_acc = val_metric.result()\n",
    "#     val_metric.reset_states()\n",
    "    print(f\"Validation acc: {val_acc}\")\n",
    "    file.write(f\"Validation acc: {val_acc}\\n\")\n",
    "    \n",
    "    #Store values for plotting\n",
    "    train_acc_values.append(train_acc)\n",
    "    val_acc_values.append(val_acc)\n",
    "file.close()   "
   ]
  },
  {
   "cell_type": "code",
   "execution_count": 12,
   "id": "ba609640",
   "metadata": {
    "execution": {
     "iopub.execute_input": "2024-04-08T19:55:46.387149Z",
     "iopub.status.busy": "2024-04-08T19:55:46.386618Z",
     "iopub.status.idle": "2024-04-08T19:55:46.390789Z",
     "shell.execute_reply": "2024-04-08T19:55:46.389678Z"
    },
    "papermill": {
     "duration": 0.019527,
     "end_time": "2024-04-08T19:55:46.392840",
     "exception": false,
     "start_time": "2024-04-08T19:55:46.373313",
     "status": "completed"
    },
    "tags": []
   },
   "outputs": [],
   "source": [
    "# train_loader = CustomDataLoader('/kaggle/input/petfinder-pawpularity-score/train/', train_df, metadata_columns, target_column, 32, (100, 100))\n",
    "# validation_loader = CustomDataLoader('/kaggle/input/petfinder-pawpularity-score/train/', test_df, metadata_columns, target_column, 32, (100, 100))\n",
    "# history= model.fit(train_loader, validation_data= validation_loader, epochs= 2)"
   ]
  },
  {
   "cell_type": "code",
   "execution_count": null,
   "id": "232ba9b9",
   "metadata": {
    "execution": {
     "iopub.execute_input": "2024-04-08T19:55:46.419338Z",
     "iopub.status.busy": "2024-04-08T19:55:46.419064Z",
     "iopub.status.idle": "2024-04-08T19:55:54.901136Z",
     "shell.execute_reply": "2024-04-08T19:55:54.900122Z"
    },
    "papermill": {
     "duration": 8.498343,
     "end_time": "2024-04-08T19:55:54.903166",
     "exception": false,
     "start_time": "2024-04-08T19:55:46.404823",
     "status": "completed"
    },
    "tags": []
   },
   "outputs": [],
   "source": [
    "#Test the model\n",
    "test_loader = CustomDataLoader('/kaggle/input/petfinder-pawpularity-score/train/', test_df, metadata_columns, target_column, 32, (256, 256))\n",
    "#Custom testing loop for the model\n",
    "test_acc_values= []\n",
    "file= open('testing_log.txt', 'w')\n",
    "# Define the loss function, optimizer, and metrics\n",
    "for i, X in enumerate(test_loader):\n",
    "    X_images= X[0][0]\n",
    "    X_meta= X[0][1]\n",
    "    y= X[1]\n",
    "    logits = model([X_images, X_meta], training=False)\n",
    "#     logits= np.log(logits)\n",
    "    #Reverse the log1p transformation\n",
    "    logits= np.expm1(logits)\n",
    "    y= np.expm1(y)\n",
    "    #Round the values to nearest integer\n",
    "#     logits= tf.math.round(logits)\n",
    "    file.write(f\"Predicted values: {logits}\\n\")\n",
    "    file.write(f\"Actual values: {y}\\n\")\n",
    "    # Compute the loss value\n",
    "    loss_value = loss_fn(y, logits)\n",
    "    # Update training metric\n",
    "    train_metric.update_state(y, logits)\n",
    "# Display metrics at the end of each epoch.\n",
    "test_acc = train_metric.result()\n",
    "print(f\"Test acc: {test_acc}\")\n",
    "file.write(f\"Test acc: {test_acc}\\n\")\n",
    "file.close()"
   ]
  },
  {
   "cell_type": "code",
   "execution_count": 14,
   "id": "8cfbbe55",
   "metadata": {
    "execution": {
     "iopub.execute_input": "2024-04-08T19:55:54.931059Z",
     "iopub.status.busy": "2024-04-08T19:55:54.930759Z",
     "iopub.status.idle": "2024-04-08T19:55:55.887558Z",
     "shell.execute_reply": "2024-04-08T19:55:55.886625Z"
    },
    "papermill": {
     "duration": 0.973208,
     "end_time": "2024-04-08T19:55:55.889898",
     "exception": false,
     "start_time": "2024-04-08T19:55:54.916690",
     "status": "completed"
    },
    "tags": []
   },
   "outputs": [],
   "source": [
    "#save the model\n",
    "model.save_weights('pawpularity_model.weights.h5')"
   ]
  }
 ],
 "metadata": {
  "kaggle": {
   "accelerator": "nvidiaTeslaT4",
   "dataSources": [
    {
     "databundleVersionId": 2684322,
     "sourceId": 25383,
     "sourceType": "competition"
    }
   ],
   "dockerImageVersionId": 30664,
   "isGpuEnabled": true,
   "isInternetEnabled": true,
   "language": "python",
   "sourceType": "notebook"
  },
  "kernelspec": {
   "display_name": "Python 3",
   "language": "python",
   "name": "python3"
  },
  "language_info": {
   "codemirror_mode": {
    "name": "ipython",
    "version": 3
   },
   "file_extension": ".py",
   "mimetype": "text/x-python",
   "name": "python",
   "nbconvert_exporter": "python",
   "pygments_lexer": "ipython3",
   "version": "3.10.13"
  },
  "papermill": {
   "default_parameters": {},
   "duration": 6463.826927,
   "end_time": "2024-04-08T19:55:57.639314",
   "environment_variables": {},
   "exception": null,
   "input_path": "__notebook__.ipynb",
   "output_path": "__notebook__.ipynb",
   "parameters": {},
   "start_time": "2024-04-08T18:08:13.812387",
   "version": "2.5.0"
  }
 },
 "nbformat": 4,
 "nbformat_minor": 5
}
